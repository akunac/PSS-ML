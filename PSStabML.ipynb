{
 "cells": [
  {
   "cell_type": "markdown",
   "metadata": {},
   "source": [
    "# Machine learning for Power System Stability Analysis"
   ]
  },
  {
   "cell_type": "markdown",
   "metadata": {},
   "source": [
    "<p style=\"background-color:azure;padding:10px;border:2px solid lightsteelblue\"><b>Author:</b> Petar Sarajcev, PhD (petar.sarajcev@fesb.hr)\n",
    "<br>\n",
    "University of Split, FESB, Department of Power Engineering <br>R. Boskovica 32, HR-21000 Split, Croatia, EU.</p>"
   ]
  },
  {
   "cell_type": "code",
   "execution_count": 55,
   "metadata": {},
   "outputs": [],
   "source": [
    "import numpy as np\n",
    "import pandas as pd\n",
    "import seaborn as sns\n",
    "import matplotlib.pyplot as plt"
   ]
  },
  {
   "cell_type": "code",
   "execution_count": 56,
   "metadata": {},
   "outputs": [],
   "source": [
    "from scipy import stats"
   ]
  },
  {
   "cell_type": "code",
   "execution_count": 57,
   "metadata": {},
   "outputs": [],
   "source": [
    "from sklearn import metrics\n",
    "from sklearn import preprocessing\n",
    "from sklearn import svm\n",
    "from sklearn.decomposition import PCA\n",
    "from sklearn.linear_model import LogisticRegression as LR\n",
    "from sklearn.ensemble import ExtraTreesClassifier\n",
    "from sklearn.ensemble import RandomForestClassifier\n",
    "from sklearn.ensemble import GradientBoostingClassifier\n",
    "from sklearn.ensemble import VotingClassifier\n",
    "from sklearn.model_selection import GridSearchCV\n",
    "from sklearn.model_selection import RandomizedSearchCV\n",
    "from sklearn.model_selection import KFold \n",
    "from sklearn.model_selection import cross_val_score\n",
    "from sklearn.model_selection import cross_val_predict\n",
    "from sklearn.model_selection import train_test_split\n",
    "from sklearn.pipeline import Pipeline, FeatureUnion"
   ]
  },
  {
   "cell_type": "code",
   "execution_count": 58,
   "metadata": {},
   "outputs": [],
   "source": [
    "# Inline figures\n",
    "%matplotlib inline"
   ]
  },
  {
   "cell_type": "code",
   "execution_count": 59,
   "metadata": {},
   "outputs": [],
   "source": [
    "# Figure aesthetics\n",
    "sns.set(context='notebook', style='white', font_scale=1.2)\n",
    "sns.set_style('ticks', {'xtick.direction':'in', 'ytick.direction':'in'})"
   ]
  },
  {
   "cell_type": "code",
   "execution_count": 60,
   "metadata": {},
   "outputs": [],
   "source": [
    "# ancilary function from: https://github.com/amueller/introduction_to_ml_with_python/blob/master/mglearn/tools.py\n",
    "def heatmap(values, xlabel, ylabel, xticklabels, yticklabels, cmap=None,\n",
    "            vmin=None, vmax=None, ax=None, fmt=\"%0.2f\", fontsize=14):\n",
    "    if ax is None:\n",
    "        ax = plt.gca()\n",
    "    # plot the mean cross-validation scores\n",
    "    img = ax.pcolor(values, cmap=cmap, vmin=vmin, vmax=vmax)\n",
    "    img.update_scalarmappable()\n",
    "    ax.set_xlabel(xlabel)\n",
    "    ax.set_ylabel(ylabel)\n",
    "    ax.set_xticks(np.arange(len(xticklabels)) + .5)\n",
    "    ax.set_yticks(np.arange(len(yticklabels)) + .5)\n",
    "    ax.set_xticklabels(xticklabels)\n",
    "    ax.set_yticklabels(yticklabels)\n",
    "    ax.set_aspect(1)\n",
    "\n",
    "    for p, color, value in zip(img.get_paths(), img.get_facecolors(),\n",
    "                               img.get_array()):\n",
    "        x, y = p.vertices[:-2, :].mean(0)\n",
    "        if np.mean(color[:3]) > 0.5:\n",
    "            c = 'k'\n",
    "        else:\n",
    "            c = 'w'\n",
    "        ax.text(x, y, fmt % value, color=c, ha=\"center\", va=\"center\", fontsize=fontsize)\n",
    "    return img"
   ]
  },
  {
   "cell_type": "markdown",
   "metadata": {},
   "source": [
    "### Transformer diagnostic data and health index values"
   ]
  },
  {
   "cell_type": "code",
   "execution_count": 61,
   "metadata": {},
   "outputs": [
    {
     "data": {
      "text/html": [
       "<div>\n",
       "<style scoped>\n",
       "    .dataframe tbody tr th:only-of-type {\n",
       "        vertical-align: middle;\n",
       "    }\n",
       "\n",
       "    .dataframe tbody tr th {\n",
       "        vertical-align: top;\n",
       "    }\n",
       "\n",
       "    .dataframe thead th {\n",
       "        text-align: right;\n",
       "    }\n",
       "</style>\n",
       "<table border=\"1\" class=\"dataframe\">\n",
       "  <thead>\n",
       "    <tr style=\"text-align: right;\">\n",
       "      <th></th>\n",
       "      <th>WmG1</th>\n",
       "      <th>WmG2</th>\n",
       "      <th>WmG3</th>\n",
       "      <th>WmG4</th>\n",
       "      <th>WmG5</th>\n",
       "      <th>WmG6</th>\n",
       "      <th>WmG7</th>\n",
       "      <th>WmG8</th>\n",
       "      <th>WmG9</th>\n",
       "      <th>WmG10</th>\n",
       "      <th>...</th>\n",
       "      <th>VClvB35</th>\n",
       "      <th>VAlvB36</th>\n",
       "      <th>VClvB36</th>\n",
       "      <th>VAlvB37</th>\n",
       "      <th>VClvB37</th>\n",
       "      <th>VAlvB38</th>\n",
       "      <th>VClvB38</th>\n",
       "      <th>VAlvB39</th>\n",
       "      <th>VClvB39</th>\n",
       "      <th>Stability</th>\n",
       "    </tr>\n",
       "  </thead>\n",
       "  <tbody>\n",
       "    <tr>\n",
       "      <th>0</th>\n",
       "      <td>1.00120</td>\n",
       "      <td>1.0036</td>\n",
       "      <td>1.0029</td>\n",
       "      <td>1.0056</td>\n",
       "      <td>1.0079</td>\n",
       "      <td>1.0061</td>\n",
       "      <td>1.0060</td>\n",
       "      <td>1.0024</td>\n",
       "      <td>1.0025</td>\n",
       "      <td>1.0043</td>\n",
       "      <td>...</td>\n",
       "      <td>0.99777</td>\n",
       "      <td>1.03670</td>\n",
       "      <td>1.03670</td>\n",
       "      <td>1.0650</td>\n",
       "      <td>1.0650</td>\n",
       "      <td>1.0936</td>\n",
       "      <td>1.0936</td>\n",
       "      <td>1.0191</td>\n",
       "      <td>1.0191</td>\n",
       "      <td>0</td>\n",
       "    </tr>\n",
       "    <tr>\n",
       "      <th>1</th>\n",
       "      <td>1.00110</td>\n",
       "      <td>1.0033</td>\n",
       "      <td>1.0025</td>\n",
       "      <td>1.0047</td>\n",
       "      <td>1.0068</td>\n",
       "      <td>1.0052</td>\n",
       "      <td>1.0051</td>\n",
       "      <td>1.0021</td>\n",
       "      <td>1.0022</td>\n",
       "      <td>1.0039</td>\n",
       "      <td>...</td>\n",
       "      <td>1.01680</td>\n",
       "      <td>1.05330</td>\n",
       "      <td>1.05330</td>\n",
       "      <td>1.0673</td>\n",
       "      <td>1.0673</td>\n",
       "      <td>1.0922</td>\n",
       "      <td>1.0922</td>\n",
       "      <td>1.0192</td>\n",
       "      <td>1.0192</td>\n",
       "      <td>0</td>\n",
       "    </tr>\n",
       "    <tr>\n",
       "      <th>2</th>\n",
       "      <td>1.00120</td>\n",
       "      <td>1.0038</td>\n",
       "      <td>1.0033</td>\n",
       "      <td>1.0063</td>\n",
       "      <td>1.0079</td>\n",
       "      <td>1.0124</td>\n",
       "      <td>1.0114</td>\n",
       "      <td>1.0029</td>\n",
       "      <td>1.0030</td>\n",
       "      <td>1.0046</td>\n",
       "      <td>...</td>\n",
       "      <td>0.81049</td>\n",
       "      <td>0.88406</td>\n",
       "      <td>0.88378</td>\n",
       "      <td>1.0322</td>\n",
       "      <td>1.0322</td>\n",
       "      <td>1.0796</td>\n",
       "      <td>1.0796</td>\n",
       "      <td>1.0081</td>\n",
       "      <td>1.0081</td>\n",
       "      <td>0</td>\n",
       "    </tr>\n",
       "    <tr>\n",
       "      <th>3</th>\n",
       "      <td>1.00090</td>\n",
       "      <td>1.0025</td>\n",
       "      <td>1.0018</td>\n",
       "      <td>1.0011</td>\n",
       "      <td>1.0023</td>\n",
       "      <td>1.0015</td>\n",
       "      <td>1.0014</td>\n",
       "      <td>1.0012</td>\n",
       "      <td>1.0011</td>\n",
       "      <td>1.0020</td>\n",
       "      <td>...</td>\n",
       "      <td>1.07040</td>\n",
       "      <td>1.08570</td>\n",
       "      <td>1.08570</td>\n",
       "      <td>1.0570</td>\n",
       "      <td>1.0570</td>\n",
       "      <td>1.0676</td>\n",
       "      <td>1.0676</td>\n",
       "      <td>1.0252</td>\n",
       "      <td>1.0252</td>\n",
       "      <td>0</td>\n",
       "    </tr>\n",
       "    <tr>\n",
       "      <th>4</th>\n",
       "      <td>0.99983</td>\n",
       "      <td>1.0003</td>\n",
       "      <td>1.0007</td>\n",
       "      <td>1.0008</td>\n",
       "      <td>1.0008</td>\n",
       "      <td>1.0010</td>\n",
       "      <td>1.0009</td>\n",
       "      <td>1.0006</td>\n",
       "      <td>1.0010</td>\n",
       "      <td>1.0009</td>\n",
       "      <td>...</td>\n",
       "      <td>1.00710</td>\n",
       "      <td>1.01330</td>\n",
       "      <td>1.01330</td>\n",
       "      <td>1.0053</td>\n",
       "      <td>1.0053</td>\n",
       "      <td>1.0111</td>\n",
       "      <td>1.0111</td>\n",
       "      <td>1.0003</td>\n",
       "      <td>1.0003</td>\n",
       "      <td>0</td>\n",
       "    </tr>\n",
       "  </tbody>\n",
       "</table>\n",
       "<p>5 rows × 277 columns</p>\n",
       "</div>"
      ],
      "text/plain": [
       "      WmG1    WmG2    WmG3    WmG4    WmG5    WmG6    WmG7    WmG8    WmG9  \\\n",
       "0  1.00120  1.0036  1.0029  1.0056  1.0079  1.0061  1.0060  1.0024  1.0025   \n",
       "1  1.00110  1.0033  1.0025  1.0047  1.0068  1.0052  1.0051  1.0021  1.0022   \n",
       "2  1.00120  1.0038  1.0033  1.0063  1.0079  1.0124  1.0114  1.0029  1.0030   \n",
       "3  1.00090  1.0025  1.0018  1.0011  1.0023  1.0015  1.0014  1.0012  1.0011   \n",
       "4  0.99983  1.0003  1.0007  1.0008  1.0008  1.0010  1.0009  1.0006  1.0010   \n",
       "\n",
       "    WmG10  ...  VClvB35  VAlvB36  VClvB36  VAlvB37  VClvB37  VAlvB38  VClvB38  \\\n",
       "0  1.0043  ...  0.99777  1.03670  1.03670   1.0650   1.0650   1.0936   1.0936   \n",
       "1  1.0039  ...  1.01680  1.05330  1.05330   1.0673   1.0673   1.0922   1.0922   \n",
       "2  1.0046  ...  0.81049  0.88406  0.88378   1.0322   1.0322   1.0796   1.0796   \n",
       "3  1.0020  ...  1.07040  1.08570  1.08570   1.0570   1.0570   1.0676   1.0676   \n",
       "4  1.0009  ...  1.00710  1.01330  1.01330   1.0053   1.0053   1.0111   1.0111   \n",
       "\n",
       "   VAlvB39  VClvB39  Stability  \n",
       "0   1.0191   1.0191          0  \n",
       "1   1.0192   1.0192          0  \n",
       "2   1.0081   1.0081          0  \n",
       "3   1.0252   1.0252          0  \n",
       "4   1.0003   1.0003          0  \n",
       "\n",
       "[5 rows x 277 columns]"
      ]
     },
     "execution_count": 61,
     "metadata": {},
     "output_type": "execute_result"
    }
   ],
   "source": [
    "data = pd.read_csv('GridDictionary.csv')\n",
    "data.head()"
   ]
  },
  {
   "cell_type": "code",
   "execution_count": 62,
   "metadata": {},
   "outputs": [],
   "source": [
    "# Flip ones into zeros for the \"Stability\" column\n",
    "#data['Stability'] = 1 - data['Stability']"
   ]
  },
  {
   "cell_type": "code",
   "execution_count": 63,
   "metadata": {},
   "outputs": [
    {
     "name": "stdout",
     "output_type": "stream",
     "text": [
      "There is 19.1% of unstable cases in the dataset!\n"
     ]
    }
   ],
   "source": [
    "# Percentage of \"ones\" in the \"Stability\" column\n",
    "print('There is {:.1f}% of unstable cases in the dataset!'.format(data['Stability'].sum()/float(len(data['Stability']))*100.))"
   ]
  },
  {
   "cell_type": "markdown",
   "metadata": {},
   "source": [
    "### Select a random subset of the original data"
   ]
  },
  {
   "cell_type": "code",
   "execution_count": 64,
   "metadata": {},
   "outputs": [],
   "source": [
    "# Select a random subset of the original dataset (without replacement)\n",
    "#SUBSET_SIZE = 2000\n",
    "#random_idx = np.random.choice(data.index, size=SUBSET_SIZE, replace=False)\n",
    "#data = data.iloc[random_idx]"
   ]
  },
  {
   "cell_type": "markdown",
   "metadata": {},
   "source": [
    "### Data preprocessing and splitting"
   ]
  },
  {
   "cell_type": "code",
   "execution_count": 65,
   "metadata": {},
   "outputs": [
    {
     "name": "stdout",
     "output_type": "stream",
     "text": [
      "X_data (2000, 276)\n",
      "y_data (2000,)\n"
     ]
    }
   ],
   "source": [
    "# Training dataset\n",
    "no_features = len(data.columns) - 1\n",
    "X_data = data.iloc[:,0:no_features]  # features\n",
    "print('X_data', X_data.shape)\n",
    "y_data = data['Stability']\n",
    "print('y_data', y_data.shape)"
   ]
  },
  {
   "cell_type": "code",
   "execution_count": 66,
   "metadata": {},
   "outputs": [
    {
     "name": "stderr",
     "output_type": "stream",
     "text": [
      "C:\\Users\\User\\Anaconda3\\lib\\site-packages\\sklearn\\model_selection\\_split.py:2179: FutureWarning: From version 0.21, test_size will always complement train_size unless both are specified.\n",
      "  FutureWarning)\n"
     ]
    }
   ],
   "source": [
    "# Split dataset into train and test sets\n",
    "X_train, X_test, y_train, y_test = train_test_split(X_data, y_data, train_size=0.8, shuffle=True)"
   ]
  },
  {
   "cell_type": "code",
   "execution_count": 67,
   "metadata": {},
   "outputs": [
    {
     "name": "stdout",
     "output_type": "stream",
     "text": [
      "X_train (1600, 276)\n",
      "y_train (1600,)\n",
      "X_test (400, 276)\n",
      "y_test (400,)\n"
     ]
    }
   ],
   "source": [
    "print('X_train', X_train.shape)\n",
    "print('y_train', y_train.shape)\n",
    "print('X_test', X_test.shape)\n",
    "print('y_test', y_test.shape)"
   ]
  },
  {
   "cell_type": "code",
   "execution_count": 68,
   "metadata": {},
   "outputs": [
    {
     "data": {
      "text/plain": [
       "(400, 1)"
      ]
     },
     "execution_count": 68,
     "metadata": {},
     "output_type": "execute_result"
    }
   ],
   "source": [
    "y_t = data[['Stability']].copy()\n",
    "idx = y_test.index.values\n",
    "y_t = y_t.loc[idx]\n",
    "y_t.shape"
   ]
  },
  {
   "cell_type": "markdown",
   "metadata": {},
   "source": [
    "#### StandardScaler"
   ]
  },
  {
   "cell_type": "code",
   "execution_count": 69,
   "metadata": {},
   "outputs": [],
   "source": [
    "# Standardize the input data\n",
    "scaler = preprocessing.StandardScaler()\n",
    "X_train = scaler.fit_transform(X_train)\n",
    "X_test = scaler.transform(X_test)"
   ]
  },
  {
   "cell_type": "markdown",
   "metadata": {},
   "source": [
    "### LogisticRegression"
   ]
  },
  {
   "cell_type": "code",
   "execution_count": 70,
   "metadata": {},
   "outputs": [],
   "source": [
    "# Logistic Regression (with fixed hyper-parameters)\n",
    "lreg = LR(C=100.,  # fixed \"C\" hyper-parameter\n",
    "          multi_class='ovr', solver='newton-cg', n_jobs=-1)\n",
    "lreg.fit(X_train, y_train)  # fit model to data\n",
    "y_lr = lreg.predict_proba(X_test)  # predict on new data"
   ]
  },
  {
   "cell_type": "code",
   "execution_count": 71,
   "metadata": {},
   "outputs": [
    {
     "data": {
      "image/png": "[encoded data removed]",
      "text/plain": [
       "<Figure size 432x288 with 1 Axes>"
      ]
     },
     "metadata": {},
     "output_type": "display_data"
    }
   ],
   "source": [
    "pred = lreg.predict(X_test)\n",
    "labels = ['Stab', 'NotStab']\n",
    "# confusion matrix\n",
    "scores_image = heatmap(metrics.confusion_matrix(y_test, pred), xlabel='Predicted label', \n",
    "                       ylabel='True label', xticklabels=labels, yticklabels=labels, \n",
    "                       cmap=plt.cm.gray_r, fmt=\"%d\")\n",
    "plt.title(\"Confusion matrix\")\n",
    "plt.gca().invert_yaxis()\n",
    "plt.show()"
   ]
  },
  {
   "cell_type": "code",
   "execution_count": 72,
   "metadata": {},
   "outputs": [
    {
     "name": "stdout",
     "output_type": "stream",
     "text": [
      "              precision    recall  f1-score   support\n",
      "\n",
      "        Stab       1.00      1.00      1.00       316\n",
      "     NotStab       0.99      1.00      0.99        84\n",
      "\n",
      "   micro avg       1.00      1.00      1.00       400\n",
      "   macro avg       0.99      1.00      1.00       400\n",
      "weighted avg       1.00      1.00      1.00       400\n",
      "\n"
     ]
    }
   ],
   "source": [
    "# classification report\n",
    "print(metrics.classification_report(y_test, pred, target_names=labels))"
   ]
  },
  {
   "cell_type": "markdown",
   "metadata": {},
   "source": [
    "#### GridSearchCV"
   ]
  },
  {
   "cell_type": "code",
   "execution_count": 73,
   "metadata": {},
   "outputs": [
    {
     "name": "stdout",
     "output_type": "stream",
     "text": [
      "Best value: C = 500\n"
     ]
    }
   ],
   "source": [
    "# Grid-search with cross validation for optimal model hyper-parameters\n",
    "parameters = {'C':[1., 10., 50., 100., 500., 1000.]}\n",
    "lreg = GridSearchCV(estimator=LR(multi_class='ovr', solver='newton-cg'), \n",
    "                    param_grid=parameters, cv=3, scoring='f1',  # notice the \"scoring\" method!\n",
    "                    refit=True, n_jobs=-1, iid=False)\n",
    "lreg.fit(X_train, y_train)\n",
    "# Best value of hyper-parameter \"C\"\n",
    "best_c = lreg.best_params_['C']\n",
    "print('Best value: C = {:g}'.format(best_c))"
   ]
  },
  {
   "cell_type": "code",
   "execution_count": 74,
   "metadata": {},
   "outputs": [
    {
     "name": "stdout",
     "output_type": "stream",
     "text": [
      "Score using 3-fold CV: 0.985012 +/- 0.00954183\n"
     ]
    }
   ],
   "source": [
    "# Average classification accuracy with cross validation\n",
    "scores = cross_val_score(LR(C=best_c, multi_class='ovr', solver='newton-cg'), \n",
    "                         X_train, y_train, cv=3)  # it doesn't return a model!\n",
    "print('Score using 3-fold CV: {:g} +/- {:g}'.format(np.mean(scores), np.std(scores)))"
   ]
  },
  {
   "cell_type": "markdown",
   "metadata": {},
   "source": [
    "### Feature selection with Pipeline and GridSearch"
   ]
  },
  {
   "cell_type": "code",
   "execution_count": 75,
   "metadata": {},
   "outputs": [
    {
     "name": "stdout",
     "output_type": "stream",
     "text": [
      "Best parameter (CV score = 0.960):\n",
      "{'logreg__C': 500.0, 'pca__n_components': 100}\n"
     ]
    }
   ],
   "source": [
    "# Optimize the number of features and the classifier's hyper-parameters \n",
    "# at the same time, using pipline and grid search with cross-validation\n",
    "pca = PCA()  # do NOT set \"n_components\" here!\n",
    "logreg = LR(multi_class='ovr', solver='newton-cg')  # multinomial classification!\n",
    "pipe = Pipeline([('pca',pca), ('logreg',logreg)])\n",
    "param_grid = {'pca__n_components': [10, 50, 100],  # PCA\n",
    "              'logreg__C': [10., 100., 500.]}      # LogisticRegression\n",
    "grid_pipe = GridSearchCV(estimator=pipe, param_grid=param_grid, cv=3, \n",
    "                         scoring='f1', refit=True, n_jobs=-1, iid=False)\n",
    "grid_pipe.fit(X_train, y_train)\n",
    "print('Best parameter (CV score = {:0.3f}):'.format(grid_pipe.best_score_))\n",
    "print(grid_pipe.best_params_)"
   ]
  },
  {
   "cell_type": "code",
   "execution_count": 76,
   "metadata": {},
   "outputs": [],
   "source": [
    "# Predict probability on test data\n",
    "y_lr = grid_pipe.predict_proba(X_test)\n",
    "y_t['logreg'] = y_lr.argmax(axis=1)"
   ]
  },
  {
   "cell_type": "code",
   "execution_count": 77,
   "metadata": {},
   "outputs": [
    {
     "data": {
      "text/html": [
       "<div>\n",
       "<style scoped>\n",
       "    .dataframe tbody tr th:only-of-type {\n",
       "        vertical-align: middle;\n",
       "    }\n",
       "\n",
       "    .dataframe tbody tr th {\n",
       "        vertical-align: top;\n",
       "    }\n",
       "\n",
       "    .dataframe thead th {\n",
       "        text-align: right;\n",
       "    }\n",
       "</style>\n",
       "<table border=\"1\" class=\"dataframe\">\n",
       "  <thead>\n",
       "    <tr style=\"text-align: right;\">\n",
       "      <th></th>\n",
       "      <th>Stability</th>\n",
       "      <th>logreg</th>\n",
       "    </tr>\n",
       "  </thead>\n",
       "  <tbody>\n",
       "    <tr>\n",
       "      <th>2120</th>\n",
       "      <td>0</td>\n",
       "      <td>0</td>\n",
       "    </tr>\n",
       "    <tr>\n",
       "      <th>499</th>\n",
       "      <td>0</td>\n",
       "      <td>0</td>\n",
       "    </tr>\n",
       "    <tr>\n",
       "      <th>256</th>\n",
       "      <td>0</td>\n",
       "      <td>0</td>\n",
       "    </tr>\n",
       "    <tr>\n",
       "      <th>1688</th>\n",
       "      <td>1</td>\n",
       "      <td>1</td>\n",
       "    </tr>\n",
       "    <tr>\n",
       "      <th>991</th>\n",
       "      <td>1</td>\n",
       "      <td>1</td>\n",
       "    </tr>\n",
       "  </tbody>\n",
       "</table>\n",
       "</div>"
      ],
      "text/plain": [
       "      Stability  logreg\n",
       "2120          0       0\n",
       "499           0       0\n",
       "256           0       0\n",
       "1688          1       1\n",
       "991           1       1"
      ]
     },
     "execution_count": 77,
     "metadata": {},
     "output_type": "execute_result"
    }
   ],
   "source": [
    "y_t.head()"
   ]
  },
  {
   "cell_type": "markdown",
   "metadata": {},
   "source": [
    "### Support Vector Machine"
   ]
  },
  {
   "cell_type": "code",
   "execution_count": 78,
   "metadata": {},
   "outputs": [
    {
     "data": {
      "text/plain": [
       "GridSearchCV(cv=3, error_score='raise-deprecating',\n",
       "       estimator=SVC(C=1.0, cache_size=200, class_weight=None, coef0=0.0,\n",
       "  decision_function_shape='ovr', degree=3, gamma='auto_deprecated',\n",
       "  kernel='rbf', max_iter=-1, probability=True, random_state=None,\n",
       "  shrinking=True, tol=0.001, verbose=False),\n",
       "       fit_params=None, iid=False, n_jobs=-1,\n",
       "       param_grid={'C': [1.0, 10.0, 100.0, 500.0, 1000.0], 'gamma': [0.0001, 0.001, 0.01, 0.1, 1.0]},\n",
       "       pre_dispatch='2*n_jobs', refit=True, return_train_score='warn',\n",
       "       scoring='f1', verbose=0)"
      ]
     },
     "execution_count": 78,
     "metadata": {},
     "output_type": "execute_result"
    }
   ],
   "source": [
    "parameters ={'C':[1., 10., 100., 500., 1000.],\n",
    "             'gamma':[0.0001, 0.001, 0.01, 0.1, 1.]}\n",
    "svc = GridSearchCV(estimator=svm.SVC(kernel='rbf', probability=True), \n",
    "                   param_grid=parameters, cv=3,\n",
    "                   scoring='f1', refit=True, n_jobs=-1, iid=False)\n",
    "svc.fit(X_train, y_train)"
   ]
  },
  {
   "cell_type": "code",
   "execution_count": 79,
   "metadata": {},
   "outputs": [
    {
     "name": "stdout",
     "output_type": "stream",
     "text": [
      "Best parameters from GridSearch: {'C': 100.0, 'gamma': 0.001}\n"
     ]
    }
   ],
   "source": [
    "# Best model parameters\n",
    "best_parameters = svc.best_params_\n",
    "print(\"Best parameters from GridSearch: {}\".format(svc.best_params_))"
   ]
  },
  {
   "cell_type": "code",
   "execution_count": 80,
   "metadata": {},
   "outputs": [
    {
     "name": "stdout",
     "output_type": "stream",
     "text": [
      "Average score using 3-fold CV: 0.990627 +/- 0.00264173\n"
     ]
    }
   ],
   "source": [
    "scores = cross_val_score(svm.SVC(**best_parameters), X_train, y_train, cv=3)\n",
    "print('Average score using 3-fold CV: {:g} +/- {:g}'.format(np.mean(scores), np.std(scores)))"
   ]
  },
  {
   "cell_type": "code",
   "execution_count": 27,
   "metadata": {},
   "outputs": [
    {
     "name": "stderr",
     "output_type": "stream",
     "text": [
      "C:\\Users\\User\\Anaconda3\\lib\\site-packages\\sklearn\\utils\\deprecation.py:125: FutureWarning: You are accessing a training score ('split0_train_score'), which will not be available by default any more in 0.21. If you need training scores, please set return_train_score=True\n",
      "  warnings.warn(*warn_args, **warn_kwargs)\n",
      "C:\\Users\\User\\Anaconda3\\lib\\site-packages\\sklearn\\utils\\deprecation.py:125: FutureWarning: You are accessing a training score ('split1_train_score'), which will not be available by default any more in 0.21. If you need training scores, please set return_train_score=True\n",
      "  warnings.warn(*warn_args, **warn_kwargs)\n",
      "C:\\Users\\User\\Anaconda3\\lib\\site-packages\\sklearn\\utils\\deprecation.py:125: FutureWarning: You are accessing a training score ('split2_train_score'), which will not be available by default any more in 0.21. If you need training scores, please set return_train_score=True\n",
      "  warnings.warn(*warn_args, **warn_kwargs)\n",
      "C:\\Users\\User\\Anaconda3\\lib\\site-packages\\sklearn\\utils\\deprecation.py:125: FutureWarning: You are accessing a training score ('mean_train_score'), which will not be available by default any more in 0.21. If you need training scores, please set return_train_score=True\n",
      "  warnings.warn(*warn_args, **warn_kwargs)\n",
      "C:\\Users\\User\\Anaconda3\\lib\\site-packages\\sklearn\\utils\\deprecation.py:125: FutureWarning: You are accessing a training score ('std_train_score'), which will not be available by default any more in 0.21. If you need training scores, please set return_train_score=True\n",
      "  warnings.warn(*warn_args, **warn_kwargs)\n"
     ]
    }
   ],
   "source": [
    "results = pd.DataFrame(svc.cv_results_)\n",
    "scores = np.array(results.mean_test_score).reshape(len(parameters['C']), len(parameters['gamma']))"
   ]
  },
  {
   "cell_type": "code",
   "execution_count": 28,
   "metadata": {},
   "outputs": [
    {
     "data": {
      "image/png": "[encoded data removed]",
      "text/plain": [
       "<Figure size 360x360 with 1 Axes>"
      ]
     },
     "metadata": {},
     "output_type": "display_data"
    }
   ],
   "source": [
    "fig, ax = plt.subplots(figsize=(5,5))\n",
    "heatmap(scores, xlabel='gamma', xticklabels=parameters['gamma'], \n",
    "        ylabel='C', yticklabels=parameters['C'], cmap=\"viridis\", ax=ax)\n",
    "plt.show()"
   ]
  },
  {
   "cell_type": "markdown",
   "metadata": {},
   "source": [
    "#### RandomizedSearchCV"
   ]
  },
  {
   "cell_type": "code",
   "execution_count": 29,
   "metadata": {},
   "outputs": [
    {
     "data": {
      "text/plain": [
       "RandomizedSearchCV(cv=3, error_score='raise-deprecating',\n",
       "          estimator=SVC(C=1.0, cache_size=200, class_weight=None, coef0=0.0,\n",
       "  decision_function_shape='ovr', degree=3, gamma='auto_deprecated',\n",
       "  kernel='rbf', max_iter=-1, probability=True, random_state=None,\n",
       "  shrinking=True, tol=0.001, verbose=False),\n",
       "          fit_params=None, iid=False, n_iter=50, n_jobs=-1,\n",
       "          param_distributions={'C': <scipy.stats._distn_infrastructure.rv_frozen object at 0x000001FEB42609B0>, 'gamma': <scipy.stats._distn_infrastructure.rv_frozen object at 0x000001FEB42602B0>},\n",
       "          pre_dispatch='2*n_jobs', random_state=None, refit=True,\n",
       "          return_train_score='warn', scoring='neg_log_loss', verbose=0)"
      ]
     },
     "execution_count": 29,
     "metadata": {},
     "output_type": "execute_result"
    }
   ],
   "source": [
    "parameters = {'C':stats.expon(scale=100), 'gamma':stats.expon(scale=.1)}\n",
    "svc2 = RandomizedSearchCV(estimator=svm.SVC(kernel='rbf', probability=True), \n",
    "                          param_distributions=parameters, cv=3, n_iter=50,  # 50 iterations!\n",
    "                          scoring='neg_log_loss',  # notice the scoring method!\n",
    "                          refit=True, n_jobs=-1, iid=False)\n",
    "svc2.fit(X_train, y_train)"
   ]
  },
  {
   "cell_type": "code",
   "execution_count": 30,
   "metadata": {},
   "outputs": [
    {
     "name": "stdout",
     "output_type": "stream",
     "text": [
      "Best parameters from RandomSearch: {'C': 5.322430923489032, 'gamma': 0.020669590806817628}\n"
     ]
    }
   ],
   "source": [
    "# Best model parameters\n",
    "best_parameters = svc2.best_params_\n",
    "print(\"Best parameters from RandomSearch: {}\".format(svc2.best_params_))"
   ]
  },
  {
   "cell_type": "code",
   "execution_count": 31,
   "metadata": {},
   "outputs": [
    {
     "name": "stdout",
     "output_type": "stream",
     "text": [
      "Average score using 3-fold CV: 0.98875 +/- 9.93749e-06\n"
     ]
    }
   ],
   "source": [
    "scores = cross_val_score(svm.SVC(**best_parameters), X_train, y_train, cv=3)\n",
    "print('Average score using 3-fold CV: {:g} +/- {:g}'.format(np.mean(scores), np.std(scores)))"
   ]
  },
  {
   "cell_type": "code",
   "execution_count": 32,
   "metadata": {},
   "outputs": [],
   "source": [
    "y_svc2 = svc2.predict_proba(X_test)\n",
    "y_t['svc'] = y_svc2.argmax(axis=1)"
   ]
  },
  {
   "cell_type": "markdown",
   "metadata": {},
   "source": [
    "#### Precision-Recall Tradeoff"
   ]
  },
  {
   "cell_type": "code",
   "execution_count": 33,
   "metadata": {},
   "outputs": [],
   "source": [
    "y_probas = cross_val_predict(svm.SVC(**best_parameters, probability=True), \n",
    "                             X_train, y_train, cv=3, method='predict_proba')\n",
    "y_scores = y_probas[:,1]  # score = probability of positive class"
   ]
  },
  {
   "cell_type": "code",
   "execution_count": 34,
   "metadata": {},
   "outputs": [],
   "source": [
    "precisions, recalls, thresholds = metrics.precision_recall_curve(y_train, y_scores)"
   ]
  },
  {
   "cell_type": "code",
   "execution_count": 35,
   "metadata": {},
   "outputs": [
    {
     "name": "stderr",
     "output_type": "stream",
     "text": [
      "C:\\Users\\User\\Anaconda3\\lib\\site-packages\\matplotlib\\axes\\_base.py:3604: MatplotlibDeprecationWarning: \n",
      "The `ymin` argument was deprecated in Matplotlib 3.0 and will be removed in 3.2. Use `bottom` instead.\n",
      "  alternative='`bottom`', obj_type='argument')\n",
      "C:\\Users\\User\\Anaconda3\\lib\\site-packages\\matplotlib\\axes\\_base.py:3610: MatplotlibDeprecationWarning: \n",
      "The `ymax` argument was deprecated in Matplotlib 3.0 and will be removed in 3.2. Use `top` instead.\n",
      "  alternative='`top`', obj_type='argument')\n"
     ]
    },
    {
     "data": {
      "image/png": "[encoded data removed]",
      "text/plain": [
       "<Figure size 432x288 with 1 Axes>"
      ]
     },
     "metadata": {},
     "output_type": "display_data"
    }
   ],
   "source": [
    "fig, ax = plt.subplots(figsize=(6,4))\n",
    "ax.set_title('SVC Precision-Recall tradeof')\n",
    "ax.plot(thresholds, precisions[:-1], lw=2, label='Precision')\n",
    "ax.plot(thresholds, recalls[:-1], lw=2, label='Recall')\n",
    "plt.vlines(0.5, 0, 1, linestyles='--', label='Threshold = 0.5')\n",
    "ax.set_xlabel('Thresholds')\n",
    "ax.legend(loc='best')\n",
    "ax.set_ylim(ymin=0.8, ymax=1.02)\n",
    "ax.grid()\n",
    "fig.tight_layout()\n",
    "plt.show()"
   ]
  },
  {
   "cell_type": "code",
   "execution_count": 36,
   "metadata": {},
   "outputs": [
    {
     "data": {
      "image/png": "[encoded data removed]",
      "text/plain": [
       "<Figure size 324x324 with 1 Axes>"
      ]
     },
     "metadata": {},
     "output_type": "display_data"
    }
   ],
   "source": [
    "fig, ax = plt.subplots(figsize=(4.5,4.5))\n",
    "ax.plot(precisions, recalls, lw=2, label='SVC')\n",
    "default = np.argmin(np.abs(thresholds - 0.5))\n",
    "ax.plot(precisions[default], recalls[default], '^', c='k', markersize=10, \n",
    "        label='Threshold = 0.5', fillstyle='none', mew=2)\n",
    "ax.set_xlabel('Precision')\n",
    "ax.set_ylabel('Recall')\n",
    "ax.legend(loc='best')\n",
    "ax.grid()\n",
    "fig.tight_layout()\n",
    "plt.show()"
   ]
  },
  {
   "cell_type": "code",
   "execution_count": 37,
   "metadata": {},
   "outputs": [
    {
     "name": "stdout",
     "output_type": "stream",
     "text": [
      "Average precision-recall score: 1.00\n"
     ]
    }
   ],
   "source": [
    "# Average precision-recall score\n",
    "y_test_score = svc2.predict_proba(X_test)[:,1]\n",
    "average_precision = metrics.average_precision_score(y_test, y_test_score)\n",
    "print('Average precision-recall score: {0:0.2f}'.format(average_precision))"
   ]
  },
  {
   "cell_type": "code",
   "execution_count": 38,
   "metadata": {},
   "outputs": [],
   "source": [
    "# Determine a class from the predicted probability by using \n",
    "# the user-specified threshold value (not a default of 0.5)\n",
    "THRESHOLD = 0.6\n",
    "preds = np.where(y_test_score > THRESHOLD, 1, 0)"
   ]
  },
  {
   "cell_type": "code",
   "execution_count": 39,
   "metadata": {},
   "outputs": [
    {
     "data": {
      "text/html": [
       "<div>\n",
       "<style scoped>\n",
       "    .dataframe tbody tr th:only-of-type {\n",
       "        vertical-align: middle;\n",
       "    }\n",
       "\n",
       "    .dataframe tbody tr th {\n",
       "        vertical-align: top;\n",
       "    }\n",
       "\n",
       "    .dataframe thead th {\n",
       "        text-align: right;\n",
       "    }\n",
       "</style>\n",
       "<table border=\"1\" class=\"dataframe\">\n",
       "  <thead>\n",
       "    <tr style=\"text-align: right;\">\n",
       "      <th></th>\n",
       "      <th>0</th>\n",
       "    </tr>\n",
       "  </thead>\n",
       "  <tbody>\n",
       "    <tr>\n",
       "      <th>accuracy</th>\n",
       "      <td>0.987500</td>\n",
       "    </tr>\n",
       "    <tr>\n",
       "      <th>recall</th>\n",
       "      <td>0.987768</td>\n",
       "    </tr>\n",
       "    <tr>\n",
       "      <th>precision</th>\n",
       "      <td>0.996914</td>\n",
       "    </tr>\n",
       "    <tr>\n",
       "      <th>roc_auc_score</th>\n",
       "      <td>0.987034</td>\n",
       "    </tr>\n",
       "  </tbody>\n",
       "</table>\n",
       "</div>"
      ],
      "text/plain": [
       "                      0\n",
       "accuracy       0.987500\n",
       "recall         0.987768\n",
       "precision      0.996914\n",
       "roc_auc_score  0.987034"
      ]
     },
     "execution_count": 39,
     "metadata": {},
     "output_type": "execute_result"
    }
   ],
   "source": [
    "pd.DataFrame(data=[metrics.accuracy_score(y_test, preds), metrics.recall_score(y_test, preds),\n",
    "                   metrics.precision_score(y_test, preds), metrics.roc_auc_score(y_test, preds)], \n",
    "             index=[\"accuracy\", \"recall\", \"precision\", \"roc_auc_score\"])"
   ]
  },
  {
   "cell_type": "markdown",
   "metadata": {},
   "source": [
    "### ExtraTreesClassifier"
   ]
  },
  {
   "cell_type": "code",
   "execution_count": 40,
   "metadata": {},
   "outputs": [
    {
     "data": {
      "text/plain": [
       "GridSearchCV(cv=3, error_score='raise-deprecating',\n",
       "       estimator=ExtraTreesClassifier(bootstrap=False, class_weight=None, criterion='gini',\n",
       "           max_depth=None, max_features='auto', max_leaf_nodes=None,\n",
       "           min_impurity_decrease=0.0, min_impurity_split=None,\n",
       "           min_samples_leaf=1, min_samples_split=2,\n",
       "           min_weight_fraction_leaf=0.0, n_estimators='warn', n_jobs=None,\n",
       "           oob_score=False, random_state=None, verbose=0, warm_start=False),\n",
       "       fit_params=None, iid=False, n_jobs=-1,\n",
       "       param_grid={'n_estimators': [5, 10, 15, 20], 'criterion': ['gini', 'entropy'], 'max_depth': [2, 5, None]},\n",
       "       pre_dispatch='2*n_jobs', refit=True, return_train_score='warn',\n",
       "       scoring='neg_log_loss', verbose=0)"
      ]
     },
     "execution_count": 40,
     "metadata": {},
     "output_type": "execute_result"
    }
   ],
   "source": [
    "# ExtraTreesClassifier (ensemble learner) with grid search \n",
    "# and cross-validation for hyper-parameters optimisation\n",
    "parameters = {'n_estimators':[5, 10, 15, 20], \n",
    "              'criterion':['gini', 'entropy'], \n",
    "              'max_depth':[2, 5, None]}\n",
    "trees = GridSearchCV(estimator=ExtraTreesClassifier(), param_grid=parameters, \n",
    "                     cv=3, scoring='neg_log_loss', refit=True, n_jobs=-1, iid=False) \n",
    "trees.fit(X_train, y_train)"
   ]
  },
  {
   "cell_type": "code",
   "execution_count": 41,
   "metadata": {},
   "outputs": [
    {
     "name": "stdout",
     "output_type": "stream",
     "text": [
      "Best parameters: {'criterion': 'entropy', 'max_depth': None, 'n_estimators': 20}\n"
     ]
    }
   ],
   "source": [
    "# Best model parameters\n",
    "best_parameters = trees.best_params_\n",
    "print(\"Best parameters: {}\".format(trees.best_params_))"
   ]
  },
  {
   "cell_type": "code",
   "execution_count": 42,
   "metadata": {},
   "outputs": [
    {
     "name": "stdout",
     "output_type": "stream",
     "text": [
      "Average score using 3-fold CV: 0.989998 +/- 0.00234501\n"
     ]
    }
   ],
   "source": [
    "scores = cross_val_score(ExtraTreesClassifier(**best_parameters), X_train, y_train, cv=3)\n",
    "print('Average score using 3-fold CV: {:g} +/- {:g}'.format(np.mean(scores), np.std(scores)))"
   ]
  },
  {
   "cell_type": "code",
   "execution_count": 43,
   "metadata": {},
   "outputs": [],
   "source": [
    "y_trees = trees.predict_proba(X_test)\n",
    "y_t['tree'] = y_trees.argmax(axis=1)"
   ]
  },
  {
   "cell_type": "markdown",
   "metadata": {},
   "source": [
    "### RandomForest classifier (ensemble learner)"
   ]
  },
  {
   "cell_type": "code",
   "execution_count": 44,
   "metadata": {},
   "outputs": [
    {
     "data": {
      "text/plain": [
       "GridSearchCV(cv=3, error_score='raise-deprecating',\n",
       "       estimator=RandomForestClassifier(bootstrap=True, class_weight=None, criterion='gini',\n",
       "            max_depth=None, max_features='auto', max_leaf_nodes=None,\n",
       "            min_impurity_decrease=0.0, min_impurity_split=None,\n",
       "            min_samples_leaf=1, min_samples_split=2,\n",
       "            min_weight_fraction_leaf=0.0, n_estimators='warn', n_jobs=None,\n",
       "            oob_score=False, random_state=None, verbose=0,\n",
       "            warm_start=False),\n",
       "       fit_params=None, iid=False, n_jobs=-1,\n",
       "       param_grid={'n_estimators': [10, 15, 20], 'criterion': ['gini', 'entropy'], 'max_features': [4, 'auto'], 'max_depth': [2, None]},\n",
       "       pre_dispatch='2*n_jobs', refit=True, return_train_score='warn',\n",
       "       scoring='neg_log_loss', verbose=0)"
      ]
     },
     "execution_count": 44,
     "metadata": {},
     "output_type": "execute_result"
    }
   ],
   "source": [
    "# RandomForestClassifier (ensemble learner for classification)\n",
    "parameters = {'n_estimators':[10, 15, 20], \n",
    "              'criterion':['gini', 'entropy'],\n",
    "              'max_features':[4, 'auto'],\n",
    "              'max_depth':[2, None]}\n",
    "# grid search and cross-validation for hyper-parameters optimisation\n",
    "forest = GridSearchCV(estimator=RandomForestClassifier(), param_grid=parameters, \n",
    "                      cv=3, scoring='neg_log_loss', refit=True, n_jobs=-1, iid=False) \n",
    "forest.fit(X_train, y_train)"
   ]
  },
  {
   "cell_type": "code",
   "execution_count": 45,
   "metadata": {},
   "outputs": [
    {
     "name": "stdout",
     "output_type": "stream",
     "text": [
      "Best parameters: {'criterion': 'entropy', 'max_depth': None, 'max_features': 'auto', 'n_estimators': 15}\n"
     ]
    }
   ],
   "source": [
    "best_parameters = forest.best_params_\n",
    "print(\"Best parameters: {}\".format(forest.best_params_))"
   ]
  },
  {
   "cell_type": "code",
   "execution_count": 46,
   "metadata": {},
   "outputs": [
    {
     "name": "stdout",
     "output_type": "stream",
     "text": [
      "Average score using 3-fold CV: 0.99375 +/- 0.000886931\n"
     ]
    }
   ],
   "source": [
    "scores = cross_val_score(RandomForestClassifier(**best_parameters), X_train, y_train, cv=3)\n",
    "print('Average score using 3-fold CV: {:g} +/- {:g}'.format(np.mean(scores), np.std(scores)))"
   ]
  },
  {
   "cell_type": "code",
   "execution_count": 47,
   "metadata": {},
   "outputs": [],
   "source": [
    "y_forest = forest.predict_proba(X_test)\n",
    "y_t['forest'] = y_forest.argmax(axis=1)"
   ]
  },
  {
   "cell_type": "markdown",
   "metadata": {},
   "source": [
    "### GradientBoosting classifier with feature importance analysis"
   ]
  },
  {
   "cell_type": "code",
   "execution_count": 48,
   "metadata": {},
   "outputs": [],
   "source": [
    "# Train & evaluate model performance\n",
    "def train_and_evaluate(model, X, y, ns=3):\n",
    "    # k-fold cross validation iterator \n",
    "    cv = KFold(n_splits=ns, shuffle=True)\n",
    "    scores = cross_val_score(model, X, y, cv=cv, scoring='f1')  # scoring method is f1!\n",
    "    print('Average score using {:d}-fold CV: {:g} +/- {:g}'.format(ns, np.mean(scores), np.std(scores)))"
   ]
  },
  {
   "cell_type": "code",
   "execution_count": 49,
   "metadata": {},
   "outputs": [
    {
     "name": "stdout",
     "output_type": "stream",
     "text": [
      "Average score using 3-fold CV: 0.994606 +/- 0.00260015\n"
     ]
    },
    {
     "data": {
      "text/plain": [
       "GradientBoostingClassifier(criterion='friedman_mse', init=None,\n",
       "              learning_rate=0.1, loss='deviance', max_depth=3,\n",
       "              max_features=None, max_leaf_nodes=None,\n",
       "              min_impurity_decrease=0.0, min_impurity_split=None,\n",
       "              min_samples_leaf=1, min_samples_split=2,\n",
       "              min_weight_fraction_leaf=0.0, n_estimators=100,\n",
       "              n_iter_no_change=None, presort='auto', random_state=None,\n",
       "              subsample=1.0, tol=0.0001, validation_fraction=0.1,\n",
       "              verbose=0, warm_start=False)"
      ]
     },
     "execution_count": 49,
     "metadata": {},
     "output_type": "execute_result"
    }
   ],
   "source": [
    "# Gradient Boosting Classifier\n",
    "clf_gb = GradientBoostingClassifier()\n",
    "train_and_evaluate(clf_gb, X_train, y_train, 3)\n",
    "clf_gb.fit(X_train, y_train)"
   ]
  },
  {
   "cell_type": "code",
   "execution_count": 50,
   "metadata": {},
   "outputs": [],
   "source": [
    "# Feature importance\n",
    "feature_importance = clf_gb.feature_importances_\n",
    "feature_importance = 100.0 * (feature_importance / feature_importance.max())\n",
    "sorted_idx = np.argsort(feature_importance)\n",
    "pos = np.arange(sorted_idx.shape[0]) + .5"
   ]
  },
  {
   "cell_type": "code",
   "execution_count": 51,
   "metadata": {},
   "outputs": [
    {
     "name": "stdout",
     "output_type": "stream",
     "text": [
      "Most relevant 10 features according to the GradientBoostingClassifier:\n"
     ]
    },
    {
     "data": {
      "text/plain": [
       "array(['IqG7', 'IqG9', 'IqG6', 'PlvG6', 'VtG5', 'VtG4', 'VtG3', 'VAlvB14',\n",
       "       'VtG9', 'IdG9'], dtype=object)"
      ]
     },
     "execution_count": 51,
     "metadata": {},
     "output_type": "execute_result"
    }
   ],
   "source": [
    "# Select top features\n",
    "TOP = 10\n",
    "print('Most relevant {:d} features according to the GradientBoostingClassifier:'.format(TOP))\n",
    "data.columns.values[sorted_idx][-TOP:][::-1]"
   ]
  },
  {
   "cell_type": "code",
   "execution_count": 52,
   "metadata": {},
   "outputs": [
    {
     "data": {
      "image/png": "[encoded data removed]",
      "text/plain": [
       "<Figure size 360x360 with 1 Axes>"
      ]
     },
     "metadata": {},
     "output_type": "display_data"
    }
   ],
   "source": [
    "# Plot relative feature importance\n",
    "fig, ax = plt.subplots(figsize=(5,5))\n",
    "ax.barh(pos[-TOP:], feature_importance[sorted_idx][-TOP:], align='center', color='magenta', alpha=0.6)\n",
    "plt.yticks(pos[-TOP:], data.columns[sorted_idx][-TOP:])\n",
    "ax.set_xlabel('Feature Relative Importance')\n",
    "#ax.grid(which='major', axis='x')\n",
    "plt.tight_layout()\n",
    "plt.show()"
   ]
  },
  {
   "cell_type": "code",
   "execution_count": 53,
   "metadata": {},
   "outputs": [
    {
     "data": {
      "image/png": "[encoded data removed]",
      "text/plain": [
       "<Figure size 468x396 with 2 Axes>"
      ]
     },
     "metadata": {},
     "output_type": "display_data"
    }
   ],
   "source": [
    "# Correlation matrix of selected features\n",
    "pearson = data[data.columns[sorted_idx][-TOP:]].corr('pearson')\n",
    "pearson.iloc[-1][:-1].sort_values()\n",
    "# Correlation matrix as heatmap (seaborn)\n",
    "fig, ax = plt.subplots(figsize=(6.5,5.5))\n",
    "sns.heatmap(pearson, annot=True, annot_kws=dict(size=9), vmin=-1, vmax=1, ax=ax)\n",
    "plt.tight_layout()\n",
    "plt.show()"
   ]
  },
  {
   "cell_type": "code",
   "execution_count": 54,
   "metadata": {},
   "outputs": [],
   "source": [
    "# Predict on new data\n",
    "y_gb = clf_gb.predict_proba(X_test)\n",
    "y_t['gbr'] = y_gb.argmax(axis=1)"
   ]
  },
  {
   "cell_type": "markdown",
   "metadata": {},
   "source": [
    "## Ensemble models using voting principle"
   ]
  },
  {
   "cell_type": "markdown",
   "metadata": {},
   "source": [
    "<p style=\"background-color:honeydew;padding:10px;border:2px solid mediumseagreen\"><b>Note:</b> Ensembling consists of pooling together the predictions of a set of different models, to produce better predictions. The key to making ensembling work is the diversity of the set of classifiers. Diversity is what makes ensembling work. For this reason, one should ensemble models that are as good as possible while being <b>as different as possible</b>. This typically means using very different network architectures or even different brands of machine-learning approaches. This is exactly what has been proposed here.</p>"
   ]
  },
  {
   "cell_type": "markdown",
   "metadata": {},
   "source": [
    "### Soft voting"
   ]
  },
  {
   "cell_type": "code",
   "execution_count": 55,
   "metadata": {},
   "outputs": [],
   "source": [
    "clf = VotingClassifier(estimators=[('logreg', lreg),     # LogisticRegression\n",
    "                                   ('svm', svc2),        # SVC\n",
    "                                   ('forest', forest)],  # RandomForest \n",
    "                       weights=[1, 1, 1],  # classifier relative weights\n",
    "                       voting='soft')\n",
    "clf = clf.fit(X_train, y_train)"
   ]
  },
  {
   "cell_type": "code",
   "execution_count": 56,
   "metadata": {},
   "outputs": [],
   "source": [
    "y_clf = clf.predict_proba(X_test)\n",
    "y_t['vote'] = y_clf.argmax(axis=1)"
   ]
  },
  {
   "cell_type": "code",
   "execution_count": 57,
   "metadata": {},
   "outputs": [
    {
     "name": "stdout",
     "output_type": "stream",
     "text": [
      "Average score using 3-fold CV: 0.991878 +/- 0.0017556\n"
     ]
    }
   ],
   "source": [
    "scores = cross_val_score(clf, X_train, y_train, cv=3)\n",
    "print('Average score using 3-fold CV: {:g} +/- {:g}'.format(np.mean(scores), np.std(scores)))"
   ]
  },
  {
   "cell_type": "markdown",
   "metadata": {},
   "source": [
    "#### Predictions using individual classifiers and ensembles"
   ]
  },
  {
   "cell_type": "code",
   "execution_count": 58,
   "metadata": {},
   "outputs": [
    {
     "data": {
      "text/html": [
       "<div>\n",
       "<style scoped>\n",
       "    .dataframe tbody tr th:only-of-type {\n",
       "        vertical-align: middle;\n",
       "    }\n",
       "\n",
       "    .dataframe tbody tr th {\n",
       "        vertical-align: top;\n",
       "    }\n",
       "\n",
       "    .dataframe thead th {\n",
       "        text-align: right;\n",
       "    }\n",
       "</style>\n",
       "<table border=\"1\" class=\"dataframe\">\n",
       "  <thead>\n",
       "    <tr style=\"text-align: right;\">\n",
       "      <th></th>\n",
       "      <th>Stability</th>\n",
       "      <th>logreg</th>\n",
       "      <th>svc</th>\n",
       "      <th>tree</th>\n",
       "      <th>forest</th>\n",
       "      <th>gbr</th>\n",
       "      <th>vote</th>\n",
       "    </tr>\n",
       "  </thead>\n",
       "  <tbody>\n",
       "    <tr>\n",
       "      <th>55</th>\n",
       "      <td>1</td>\n",
       "      <td>1</td>\n",
       "      <td>1</td>\n",
       "      <td>1</td>\n",
       "      <td>1</td>\n",
       "      <td>1</td>\n",
       "      <td>1</td>\n",
       "    </tr>\n",
       "    <tr>\n",
       "      <th>7215</th>\n",
       "      <td>0</td>\n",
       "      <td>0</td>\n",
       "      <td>0</td>\n",
       "      <td>0</td>\n",
       "      <td>0</td>\n",
       "      <td>0</td>\n",
       "      <td>0</td>\n",
       "    </tr>\n",
       "    <tr>\n",
       "      <th>6739</th>\n",
       "      <td>0</td>\n",
       "      <td>0</td>\n",
       "      <td>0</td>\n",
       "      <td>0</td>\n",
       "      <td>0</td>\n",
       "      <td>0</td>\n",
       "      <td>0</td>\n",
       "    </tr>\n",
       "    <tr>\n",
       "      <th>3132</th>\n",
       "      <td>1</td>\n",
       "      <td>1</td>\n",
       "      <td>1</td>\n",
       "      <td>1</td>\n",
       "      <td>1</td>\n",
       "      <td>1</td>\n",
       "      <td>1</td>\n",
       "    </tr>\n",
       "    <tr>\n",
       "      <th>1752</th>\n",
       "      <td>0</td>\n",
       "      <td>0</td>\n",
       "      <td>0</td>\n",
       "      <td>0</td>\n",
       "      <td>0</td>\n",
       "      <td>0</td>\n",
       "      <td>0</td>\n",
       "    </tr>\n",
       "    <tr>\n",
       "      <th>1190</th>\n",
       "      <td>0</td>\n",
       "      <td>0</td>\n",
       "      <td>0</td>\n",
       "      <td>0</td>\n",
       "      <td>0</td>\n",
       "      <td>0</td>\n",
       "      <td>0</td>\n",
       "    </tr>\n",
       "    <tr>\n",
       "      <th>6695</th>\n",
       "      <td>0</td>\n",
       "      <td>0</td>\n",
       "      <td>0</td>\n",
       "      <td>0</td>\n",
       "      <td>0</td>\n",
       "      <td>0</td>\n",
       "      <td>0</td>\n",
       "    </tr>\n",
       "    <tr>\n",
       "      <th>4315</th>\n",
       "      <td>1</td>\n",
       "      <td>1</td>\n",
       "      <td>1</td>\n",
       "      <td>1</td>\n",
       "      <td>1</td>\n",
       "      <td>1</td>\n",
       "      <td>1</td>\n",
       "    </tr>\n",
       "    <tr>\n",
       "      <th>7742</th>\n",
       "      <td>1</td>\n",
       "      <td>1</td>\n",
       "      <td>1</td>\n",
       "      <td>1</td>\n",
       "      <td>1</td>\n",
       "      <td>1</td>\n",
       "      <td>1</td>\n",
       "    </tr>\n",
       "    <tr>\n",
       "      <th>183</th>\n",
       "      <td>1</td>\n",
       "      <td>1</td>\n",
       "      <td>1</td>\n",
       "      <td>1</td>\n",
       "      <td>1</td>\n",
       "      <td>1</td>\n",
       "      <td>1</td>\n",
       "    </tr>\n",
       "  </tbody>\n",
       "</table>\n",
       "</div>"
      ],
      "text/plain": [
       "      Stability  logreg  svc  tree  forest  gbr  vote\n",
       "55            1       1    1     1       1    1     1\n",
       "7215          0       0    0     0       0    0     0\n",
       "6739          0       0    0     0       0    0     0\n",
       "3132          1       1    1     1       1    1     1\n",
       "1752          0       0    0     0       0    0     0\n",
       "1190          0       0    0     0       0    0     0\n",
       "6695          0       0    0     0       0    0     0\n",
       "4315          1       1    1     1       1    1     1\n",
       "7742          1       1    1     1       1    1     1\n",
       "183           1       1    1     1       1    1     1"
      ]
     },
     "execution_count": 58,
     "metadata": {},
     "output_type": "execute_result"
    }
   ],
   "source": [
    "y_t.head(10)"
   ]
  },
  {
   "cell_type": "markdown",
   "metadata": {},
   "source": [
    "<p style=\"background-color:honeydew;padding:10px;border:2px solid mediumseagreen\"><b>Note:</b> Reported model accuracy depends on the random synthetic dataset used during the learning phase, which has been generated from the original dataset (used for testing) by means of the simple \"data augmentation\" technique. Possibility for overfitting and underfitting should be further examined, preferably with a larger dataset.</p>"
   ]
  },
  {
   "cell_type": "code",
   "execution_count": 59,
   "metadata": {},
   "outputs": [
    {
     "name": "stdout",
     "output_type": "stream",
     "text": [
      "Notebook createad on AMD64 computer running   and using:      \n",
      "Python 3.7.3\n",
      "IPython 7.4.0\n",
      "Scikit-learn 0.20.3\n",
      "Pandas 0.24.2\n",
      "Numpy 1.16.2\n",
      "Scipy 1.2.1\n"
     ]
    },
    {
     "name": "stderr",
     "output_type": "stream",
     "text": [
      "C:\\Users\\User\\Anaconda3\\lib\\site-packages\\ipykernel_launcher.py:4: DeprecationWarning: dist() and linux_distribution() functions are deprecated in Python 3.5\n",
      "  after removing the cwd from sys.path.\n"
     ]
    }
   ],
   "source": [
    "import sys, IPython, platform, sklearn, scipy\n",
    "print(\"Notebook createad on {:s} computer running {:s} and using:\\\n",
    "      \\nPython {:s}\\nIPython {:s}\\nScikit-learn {:s}\\nPandas {:s}\\nNumpy {:s}\\nScipy {:s}\"\\\n",
    "      .format(platform.machine(), ' '.join(platform.linux_distribution()[:2]), sys.version[:5], \n",
    "              IPython.__version__, sklearn.__version__, pd.__version__, np.__version__, scipy.__version__))"
   ]
  },
  {
   "cell_type": "code",
   "execution_count": null,
   "metadata": {},
   "outputs": [],
   "source": []
  }
 ],
 "metadata": {
  "kernelspec": {
   "display_name": "Python 3",
   "language": "python",
   "name": "python3"
  },
  "language_info": {
   "codemirror_mode": {
    "name": "ipython",
    "version": 3
   },
   "file_extension": ".py",
   "mimetype": "text/x-python",
   "name": "python",
   "nbconvert_exporter": "python",
   "pygments_lexer": "ipython3",
   "version": "3.7.3"
  }
 },
 "nbformat": 4,
 "nbformat_minor": 2
}
