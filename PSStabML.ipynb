{
 "cells": [
  {
   "cell_type": "markdown",
   "metadata": {},
   "source": [
    "# Machine learning for Power System Stability Analysis"
   ]
  },
  {
   "cell_type": "markdown",
   "metadata": {},
   "source": [
    "<p style=\"background-color:azure;padding:10px;border:2px solid lightsteelblue\"><b>Author:</b> Petar Sarajcev, PhD (petar.sarajcev@fesb.hr)\n",
    "<br>\n",
    "University of Split, FESB, Department of Power Engineering <br>R. Boskovica 32, HR-21000 Split, Croatia, EU.</p>"
   ]
  },
  {
   "cell_type": "code",
   "execution_count": 1,
   "metadata": {},
   "outputs": [],
   "source": [
    "import numpy as np\n",
    "import pandas as pd\n",
    "import seaborn as sns\n",
    "import matplotlib.pyplot as plt"
   ]
  },
  {
   "cell_type": "code",
   "execution_count": 2,
   "metadata": {},
   "outputs": [],
   "source": [
    "from scipy import stats"
   ]
  },
  {
   "cell_type": "code",
   "execution_count": 3,
   "metadata": {},
   "outputs": [],
   "source": [
    "from sklearn import metrics\n",
    "from sklearn import preprocessing\n",
    "from sklearn import svm\n",
    "from sklearn.decomposition import PCA\n",
    "from sklearn.linear_model import LogisticRegression as LR\n",
    "from sklearn.ensemble import ExtraTreesClassifier\n",
    "from sklearn.ensemble import RandomForestClassifier\n",
    "from sklearn.ensemble import GradientBoostingClassifier\n",
    "from sklearn.ensemble import VotingClassifier\n",
    "from sklearn.model_selection import GridSearchCV\n",
    "from sklearn.model_selection import RandomizedSearchCV\n",
    "from sklearn.model_selection import KFold \n",
    "from sklearn.model_selection import cross_val_score\n",
    "from sklearn.model_selection import cross_val_predict\n",
    "from sklearn.model_selection import train_test_split\n",
    "from sklearn.pipeline import Pipeline, FeatureUnion"
   ]
  },
  {
   "cell_type": "code",
   "execution_count": 4,
   "metadata": {},
   "outputs": [],
   "source": [
    "# Inline figures\n",
    "%matplotlib inline"
   ]
  },
  {
   "cell_type": "code",
   "execution_count": 5,
   "metadata": {},
   "outputs": [],
   "source": [
    "# Figure aesthetics\n",
    "sns.set(context='notebook', style='white', font_scale=1.2)\n",
    "sns.set_style('ticks', {'xtick.direction':'in', 'ytick.direction':'in'})"
   ]
  },
  {
   "cell_type": "code",
   "execution_count": 6,
   "metadata": {},
   "outputs": [],
   "source": [
    "# ancilary function from: https://github.com/amueller/introduction_to_ml_with_python/blob/master/mglearn/tools.py\n",
    "def heatmap(values, xlabel, ylabel, xticklabels, yticklabels, cmap=None,\n",
    "            vmin=None, vmax=None, ax=None, fmt=\"%0.2f\", fontsize=14):\n",
    "    if ax is None:\n",
    "        ax = plt.gca()\n",
    "    # plot the mean cross-validation scores\n",
    "    img = ax.pcolor(values, cmap=cmap, vmin=vmin, vmax=vmax)\n",
    "    img.update_scalarmappable()\n",
    "    ax.set_xlabel(xlabel)\n",
    "    ax.set_ylabel(ylabel)\n",
    "    ax.set_xticks(np.arange(len(xticklabels)) + .5)\n",
    "    ax.set_yticks(np.arange(len(yticklabels)) + .5)\n",
    "    ax.set_xticklabels(xticklabels)\n",
    "    ax.set_yticklabels(yticklabels)\n",
    "    ax.set_aspect(1)\n",
    "\n",
    "    for p, color, value in zip(img.get_paths(), img.get_facecolors(),\n",
    "                               img.get_array()):\n",
    "        x, y = p.vertices[:-2, :].mean(0)\n",
    "        if np.mean(color[:3]) > 0.5:\n",
    "            c = 'k'\n",
    "        else:\n",
    "            c = 'w'\n",
    "        ax.text(x, y, fmt % value, color=c, ha=\"center\", va=\"center\", fontsize=fontsize)\n",
    "    return img"
   ]
  },
  {
   "cell_type": "markdown",
   "metadata": {},
   "source": [
    "### Transformer diagnostic data and health index values"
   ]
  },
  {
   "cell_type": "code",
   "execution_count": 7,
   "metadata": {},
   "outputs": [
    {
     "data": {
      "text/html": [
       "<div>\n",
       "<style scoped>\n",
       "    .dataframe tbody tr th:only-of-type {\n",
       "        vertical-align: middle;\n",
       "    }\n",
       "\n",
       "    .dataframe tbody tr th {\n",
       "        vertical-align: top;\n",
       "    }\n",
       "\n",
       "    .dataframe thead th {\n",
       "        text-align: right;\n",
       "    }\n",
       "</style>\n",
       "<table border=\"1\" class=\"dataframe\">\n",
       "  <thead>\n",
       "    <tr style=\"text-align: right;\">\n",
       "      <th></th>\n",
       "      <th>WmG1</th>\n",
       "      <th>WmG2</th>\n",
       "      <th>WmG3</th>\n",
       "      <th>WmG4</th>\n",
       "      <th>WmG5</th>\n",
       "      <th>WmG6</th>\n",
       "      <th>WmG7</th>\n",
       "      <th>WmG8</th>\n",
       "      <th>WmG9</th>\n",
       "      <th>WmG10</th>\n",
       "      <th>...</th>\n",
       "      <th>VClvB35</th>\n",
       "      <th>VAlvB36</th>\n",
       "      <th>VClvB36</th>\n",
       "      <th>VAlvB37</th>\n",
       "      <th>VClvB37</th>\n",
       "      <th>VAlvB38</th>\n",
       "      <th>VClvB38</th>\n",
       "      <th>VAlvB39</th>\n",
       "      <th>VClvB39</th>\n",
       "      <th>Stability</th>\n",
       "    </tr>\n",
       "  </thead>\n",
       "  <tbody>\n",
       "    <tr>\n",
       "      <th>0</th>\n",
       "      <td>1.00120</td>\n",
       "      <td>1.0036</td>\n",
       "      <td>1.0029</td>\n",
       "      <td>1.0056</td>\n",
       "      <td>1.0079</td>\n",
       "      <td>1.0061</td>\n",
       "      <td>1.0060</td>\n",
       "      <td>1.0024</td>\n",
       "      <td>1.0025</td>\n",
       "      <td>1.0043</td>\n",
       "      <td>...</td>\n",
       "      <td>0.99777</td>\n",
       "      <td>1.03670</td>\n",
       "      <td>1.03670</td>\n",
       "      <td>1.0650</td>\n",
       "      <td>1.0650</td>\n",
       "      <td>1.0936</td>\n",
       "      <td>1.0936</td>\n",
       "      <td>1.0191</td>\n",
       "      <td>1.0191</td>\n",
       "      <td>0</td>\n",
       "    </tr>\n",
       "    <tr>\n",
       "      <th>1</th>\n",
       "      <td>1.00110</td>\n",
       "      <td>1.0033</td>\n",
       "      <td>1.0025</td>\n",
       "      <td>1.0047</td>\n",
       "      <td>1.0068</td>\n",
       "      <td>1.0052</td>\n",
       "      <td>1.0051</td>\n",
       "      <td>1.0021</td>\n",
       "      <td>1.0022</td>\n",
       "      <td>1.0039</td>\n",
       "      <td>...</td>\n",
       "      <td>1.01680</td>\n",
       "      <td>1.05330</td>\n",
       "      <td>1.05330</td>\n",
       "      <td>1.0673</td>\n",
       "      <td>1.0673</td>\n",
       "      <td>1.0922</td>\n",
       "      <td>1.0922</td>\n",
       "      <td>1.0192</td>\n",
       "      <td>1.0192</td>\n",
       "      <td>0</td>\n",
       "    </tr>\n",
       "    <tr>\n",
       "      <th>2</th>\n",
       "      <td>1.00120</td>\n",
       "      <td>1.0038</td>\n",
       "      <td>1.0033</td>\n",
       "      <td>1.0063</td>\n",
       "      <td>1.0079</td>\n",
       "      <td>1.0124</td>\n",
       "      <td>1.0114</td>\n",
       "      <td>1.0029</td>\n",
       "      <td>1.0030</td>\n",
       "      <td>1.0046</td>\n",
       "      <td>...</td>\n",
       "      <td>0.81049</td>\n",
       "      <td>0.88406</td>\n",
       "      <td>0.88378</td>\n",
       "      <td>1.0322</td>\n",
       "      <td>1.0322</td>\n",
       "      <td>1.0796</td>\n",
       "      <td>1.0796</td>\n",
       "      <td>1.0081</td>\n",
       "      <td>1.0081</td>\n",
       "      <td>0</td>\n",
       "    </tr>\n",
       "    <tr>\n",
       "      <th>3</th>\n",
       "      <td>1.00090</td>\n",
       "      <td>1.0025</td>\n",
       "      <td>1.0018</td>\n",
       "      <td>1.0011</td>\n",
       "      <td>1.0023</td>\n",
       "      <td>1.0015</td>\n",
       "      <td>1.0014</td>\n",
       "      <td>1.0012</td>\n",
       "      <td>1.0011</td>\n",
       "      <td>1.0020</td>\n",
       "      <td>...</td>\n",
       "      <td>1.07040</td>\n",
       "      <td>1.08570</td>\n",
       "      <td>1.08570</td>\n",
       "      <td>1.0570</td>\n",
       "      <td>1.0570</td>\n",
       "      <td>1.0676</td>\n",
       "      <td>1.0676</td>\n",
       "      <td>1.0252</td>\n",
       "      <td>1.0252</td>\n",
       "      <td>0</td>\n",
       "    </tr>\n",
       "    <tr>\n",
       "      <th>4</th>\n",
       "      <td>0.99983</td>\n",
       "      <td>1.0003</td>\n",
       "      <td>1.0007</td>\n",
       "      <td>1.0008</td>\n",
       "      <td>1.0008</td>\n",
       "      <td>1.0010</td>\n",
       "      <td>1.0009</td>\n",
       "      <td>1.0006</td>\n",
       "      <td>1.0010</td>\n",
       "      <td>1.0009</td>\n",
       "      <td>...</td>\n",
       "      <td>1.00710</td>\n",
       "      <td>1.01330</td>\n",
       "      <td>1.01330</td>\n",
       "      <td>1.0053</td>\n",
       "      <td>1.0053</td>\n",
       "      <td>1.0111</td>\n",
       "      <td>1.0111</td>\n",
       "      <td>1.0003</td>\n",
       "      <td>1.0003</td>\n",
       "      <td>0</td>\n",
       "    </tr>\n",
       "  </tbody>\n",
       "</table>\n",
       "<p>5 rows × 277 columns</p>\n",
       "</div>"
      ],
      "text/plain": [
       "      WmG1    WmG2    WmG3    WmG4    WmG5    WmG6    WmG7    WmG8    WmG9  \\\n",
       "0  1.00120  1.0036  1.0029  1.0056  1.0079  1.0061  1.0060  1.0024  1.0025   \n",
       "1  1.00110  1.0033  1.0025  1.0047  1.0068  1.0052  1.0051  1.0021  1.0022   \n",
       "2  1.00120  1.0038  1.0033  1.0063  1.0079  1.0124  1.0114  1.0029  1.0030   \n",
       "3  1.00090  1.0025  1.0018  1.0011  1.0023  1.0015  1.0014  1.0012  1.0011   \n",
       "4  0.99983  1.0003  1.0007  1.0008  1.0008  1.0010  1.0009  1.0006  1.0010   \n",
       "\n",
       "    WmG10  ...  VClvB35  VAlvB36  VClvB36  VAlvB37  VClvB37  VAlvB38  VClvB38  \\\n",
       "0  1.0043  ...  0.99777  1.03670  1.03670   1.0650   1.0650   1.0936   1.0936   \n",
       "1  1.0039  ...  1.01680  1.05330  1.05330   1.0673   1.0673   1.0922   1.0922   \n",
       "2  1.0046  ...  0.81049  0.88406  0.88378   1.0322   1.0322   1.0796   1.0796   \n",
       "3  1.0020  ...  1.07040  1.08570  1.08570   1.0570   1.0570   1.0676   1.0676   \n",
       "4  1.0009  ...  1.00710  1.01330  1.01330   1.0053   1.0053   1.0111   1.0111   \n",
       "\n",
       "   VAlvB39  VClvB39  Stability  \n",
       "0   1.0191   1.0191          0  \n",
       "1   1.0192   1.0192          0  \n",
       "2   1.0081   1.0081          0  \n",
       "3   1.0252   1.0252          0  \n",
       "4   1.0003   1.0003          0  \n",
       "\n",
       "[5 rows x 277 columns]"
      ]
     },
     "execution_count": 7,
     "metadata": {},
     "output_type": "execute_result"
    }
   ],
   "source": [
    "data = pd.read_csv('GridDictionary.csv')\n",
    "data.head()"
   ]
  },
  {
   "cell_type": "code",
   "execution_count": 8,
   "metadata": {},
   "outputs": [
    {
     "name": "stdout",
     "output_type": "stream",
     "text": [
      "There is 19.1% of unstable cases in the dataset!\n"
     ]
    }
   ],
   "source": [
    "# Percentage of \"ones\" in the \"Stability\" column\n",
    "print('There is {:.1f}% of unstable cases in the dataset!'.format(data['Stability'].sum()/float(len(data['Stability']))*100.))"
   ]
  },
  {
   "cell_type": "markdown",
   "metadata": {},
   "source": [
    "### Select a random subset of the original data"
   ]
  },
  {
   "cell_type": "code",
   "execution_count": 9,
   "metadata": {},
   "outputs": [],
   "source": [
    "# Select a random subset of the original dataset (without replacement)\n",
    "#SUBSET_SIZE = 2000\n",
    "#random_idx = np.random.choice(data.index, size=SUBSET_SIZE, replace=False)\n",
    "#data = data.iloc[random_idx]"
   ]
  },
  {
   "cell_type": "markdown",
   "metadata": {},
   "source": [
    "### Data preprocessing and splitting"
   ]
  },
  {
   "cell_type": "code",
   "execution_count": 10,
   "metadata": {},
   "outputs": [
    {
     "name": "stdout",
     "output_type": "stream",
     "text": [
      "X_data (3120, 276)\n",
      "y_data (3120,)\n"
     ]
    }
   ],
   "source": [
    "# Training dataset\n",
    "no_features = len(data.columns) - 1\n",
    "X_data = data.iloc[:,0:no_features]  # features\n",
    "print('X_data', X_data.shape)\n",
    "y_data = data['Stability']\n",
    "print('y_data', y_data.shape)"
   ]
  },
  {
   "cell_type": "code",
   "execution_count": 11,
   "metadata": {},
   "outputs": [],
   "source": [
    "# Split dataset into train and test sets\n",
    "X_train, X_test, y_train, y_test = train_test_split(X_data, y_data, train_size=0.8, shuffle=True)"
   ]
  },
  {
   "cell_type": "code",
   "execution_count": 12,
   "metadata": {},
   "outputs": [
    {
     "name": "stdout",
     "output_type": "stream",
     "text": [
      "X_train (2496, 276)\n",
      "y_train (2496,)\n",
      "X_test (624, 276)\n",
      "y_test (624,)\n"
     ]
    }
   ],
   "source": [
    "print('X_train', X_train.shape)\n",
    "print('y_train', y_train.shape)\n",
    "print('X_test', X_test.shape)\n",
    "print('y_test', y_test.shape)"
   ]
  },
  {
   "cell_type": "code",
   "execution_count": 13,
   "metadata": {},
   "outputs": [
    {
     "data": {
      "text/plain": [
       "(624, 1)"
      ]
     },
     "execution_count": 13,
     "metadata": {},
     "output_type": "execute_result"
    }
   ],
   "source": [
    "y_t = data[['Stability']].copy()\n",
    "idx = y_test.index.values\n",
    "y_t = y_t.loc[idx]\n",
    "y_t.shape"
   ]
  },
  {
   "cell_type": "markdown",
   "metadata": {},
   "source": [
    "#### StandardScaler"
   ]
  },
  {
   "cell_type": "code",
   "execution_count": 14,
   "metadata": {},
   "outputs": [],
   "source": [
    "# Standardize the input data\n",
    "scaler = preprocessing.StandardScaler()\n",
    "X_train = scaler.fit_transform(X_train)\n",
    "X_test = scaler.transform(X_test)"
   ]
  },
  {
   "cell_type": "markdown",
   "metadata": {},
   "source": [
    "### LogisticRegression"
   ]
  },
  {
   "cell_type": "code",
   "execution_count": 15,
   "metadata": {},
   "outputs": [],
   "source": [
    "# Logistic Regression (with fixed hyper-parameters)\n",
    "lreg = LR(C=100.,  # fixed \"C\" hyper-parameter\n",
    "          multi_class='ovr', solver='newton-cg', n_jobs=-1)\n",
    "lreg.fit(X_train, y_train)  # fit model to data\n",
    "y_lr = lreg.predict_proba(X_test)  # predict on new data"
   ]
  },
  {
   "cell_type": "code",
   "execution_count": 175,
   "metadata": {},
   "outputs": [
    {
     "data": {
      "image/png": "[encoded data removed]",
      "text/plain": [
       "<Figure size 432x288 with 1 Axes>"
      ]
     },
     "metadata": {},
     "output_type": "display_data"
    }
   ],
   "source": [
    "pred = lreg.predict(X_test)\n",
    "labels = ['Stable', 'Unstable']\n",
    "# confusion matrix\n",
    "scores_image = heatmap(metrics.confusion_matrix(y_test, pred), xlabel='Predicted label', \n",
    "                       ylabel='True label', xticklabels=labels, yticklabels=labels, \n",
    "                       cmap=plt.cm.gray_r, fmt=\"%d\")\n",
    "plt.title(\"Confusion matrix\")\n",
    "plt.gca().invert_yaxis()\n",
    "plt.show()"
   ]
  },
  {
   "cell_type": "code",
   "execution_count": 17,
   "metadata": {},
   "outputs": [
    {
     "name": "stdout",
     "output_type": "stream",
     "text": [
      "              precision    recall  f1-score   support\n",
      "\n",
      "        Stab       0.99      1.00      1.00       515\n",
      "     NotStab       0.98      0.97      0.98       109\n",
      "\n",
      "    accuracy                           0.99       624\n",
      "   macro avg       0.99      0.98      0.99       624\n",
      "weighted avg       0.99      0.99      0.99       624\n",
      "\n"
     ]
    }
   ],
   "source": [
    "# classification report\n",
    "print(metrics.classification_report(y_test, pred, target_names=labels))"
   ]
  },
  {
   "cell_type": "markdown",
   "metadata": {},
   "source": [
    "#### GridSearchCV"
   ]
  },
  {
   "cell_type": "code",
   "execution_count": 18,
   "metadata": {},
   "outputs": [
    {
     "name": "stdout",
     "output_type": "stream",
     "text": [
      "Best value: C = 500\n"
     ]
    }
   ],
   "source": [
    "# Grid-search with cross validation for optimal model hyper-parameters\n",
    "parameters = {'C':[1., 10., 50., 100., 500., 1000.]}\n",
    "lreg = GridSearchCV(estimator=LR(multi_class='ovr', solver='newton-cg'), \n",
    "                    param_grid=parameters, cv=3, scoring='f1',  # notice the \"scoring\" method!\n",
    "                    refit=True, n_jobs=-1, iid=False)\n",
    "lreg.fit(X_train, y_train)\n",
    "# Best value of hyper-parameter \"C\"\n",
    "best_c = lreg.best_params_['C']\n",
    "print('Best value: C = {:g}'.format(best_c))"
   ]
  },
  {
   "cell_type": "code",
   "execution_count": 19,
   "metadata": {},
   "outputs": [
    {
     "name": "stdout",
     "output_type": "stream",
     "text": [
      "Score using 3-fold CV: 0.992388 +/- 0.00299812\n"
     ]
    }
   ],
   "source": [
    "# Average classification accuracy with cross validation\n",
    "scores = cross_val_score(LR(C=best_c, multi_class='ovr', solver='newton-cg'), \n",
    "                         X_train, y_train, cv=3)  # it doesn't return a model!\n",
    "print('Score using 3-fold CV: {:g} +/- {:g}'.format(np.mean(scores), np.std(scores)))"
   ]
  },
  {
   "cell_type": "markdown",
   "metadata": {},
   "source": [
    "### Feature selection with Pipeline and GridSearch"
   ]
  },
  {
   "cell_type": "code",
   "execution_count": 20,
   "metadata": {},
   "outputs": [
    {
     "name": "stdout",
     "output_type": "stream",
     "text": [
      "Best parameter (CV score = 0.981):\n",
      "{'logreg__C': 500.0, 'pca__n_components': 50}\n"
     ]
    }
   ],
   "source": [
    "# Optimize the number of features and the classifier's hyper-parameters \n",
    "# at the same time, using pipline and grid search with cross-validation\n",
    "pca = PCA()  # do NOT set \"n_components\" here!\n",
    "logreg = LR(multi_class='ovr', solver='newton-cg')  # multinomial classification!\n",
    "pipe = Pipeline([('pca',pca), ('logreg',logreg)])\n",
    "param_grid = {'pca__n_components': [10, 20, 50, 100],   # PCA\n",
    "              'logreg__C': [10., 50., 100., 500.]}      # LogisticRegression\n",
    "grid_pipe = GridSearchCV(estimator=pipe, param_grid=param_grid, cv=3, \n",
    "                         scoring='f1', refit=True, n_jobs=-1, iid=False)\n",
    "grid_pipe.fit(X_train, y_train)\n",
    "print('Best parameter (CV score = {:0.3f}):'.format(grid_pipe.best_score_))\n",
    "print(grid_pipe.best_params_)"
   ]
  },
  {
   "cell_type": "code",
   "execution_count": 21,
   "metadata": {},
   "outputs": [],
   "source": [
    "# Predict probability on test data\n",
    "y_lr = grid_pipe.predict_proba(X_test)\n",
    "y_t['logreg'] = y_lr.argmax(axis=1)"
   ]
  },
  {
   "cell_type": "code",
   "execution_count": 22,
   "metadata": {},
   "outputs": [
    {
     "data": {
      "text/html": [
       "<div>\n",
       "<style scoped>\n",
       "    .dataframe tbody tr th:only-of-type {\n",
       "        vertical-align: middle;\n",
       "    }\n",
       "\n",
       "    .dataframe tbody tr th {\n",
       "        vertical-align: top;\n",
       "    }\n",
       "\n",
       "    .dataframe thead th {\n",
       "        text-align: right;\n",
       "    }\n",
       "</style>\n",
       "<table border=\"1\" class=\"dataframe\">\n",
       "  <thead>\n",
       "    <tr style=\"text-align: right;\">\n",
       "      <th></th>\n",
       "      <th>Stability</th>\n",
       "      <th>logreg</th>\n",
       "    </tr>\n",
       "  </thead>\n",
       "  <tbody>\n",
       "    <tr>\n",
       "      <th>1560</th>\n",
       "      <td>0</td>\n",
       "      <td>0</td>\n",
       "    </tr>\n",
       "    <tr>\n",
       "      <th>1136</th>\n",
       "      <td>1</td>\n",
       "      <td>1</td>\n",
       "    </tr>\n",
       "    <tr>\n",
       "      <th>97</th>\n",
       "      <td>0</td>\n",
       "      <td>0</td>\n",
       "    </tr>\n",
       "    <tr>\n",
       "      <th>210</th>\n",
       "      <td>0</td>\n",
       "      <td>0</td>\n",
       "    </tr>\n",
       "    <tr>\n",
       "      <th>930</th>\n",
       "      <td>0</td>\n",
       "      <td>0</td>\n",
       "    </tr>\n",
       "  </tbody>\n",
       "</table>\n",
       "</div>"
      ],
      "text/plain": [
       "      Stability  logreg\n",
       "1560          0       0\n",
       "1136          1       1\n",
       "97            0       0\n",
       "210           0       0\n",
       "930           0       0"
      ]
     },
     "execution_count": 22,
     "metadata": {},
     "output_type": "execute_result"
    }
   ],
   "source": [
    "y_t.head()"
   ]
  },
  {
   "cell_type": "markdown",
   "metadata": {},
   "source": [
    "### Support Vector Machine"
   ]
  },
  {
   "cell_type": "code",
   "execution_count": 23,
   "metadata": {},
   "outputs": [
    {
     "data": {
      "text/plain": [
       "GridSearchCV(cv=3, error_score='raise-deprecating',\n",
       "             estimator=SVC(C=1.0, cache_size=200, class_weight=None, coef0=0.0,\n",
       "                           decision_function_shape='ovr', degree=3,\n",
       "                           gamma='auto_deprecated', kernel='rbf', max_iter=-1,\n",
       "                           probability=True, random_state=None, shrinking=True,\n",
       "                           tol=0.001, verbose=False),\n",
       "             iid=False, n_jobs=-1,\n",
       "             param_grid={'C': [1.0, 10.0, 100.0, 500.0, 1000.0],\n",
       "                         'gamma': [0.0001, 0.001, 0.01, 0.1, 1.0]},\n",
       "             pre_dispatch='2*n_jobs', refit=True, return_train_score=False,\n",
       "             scoring='f1', verbose=0)"
      ]
     },
     "execution_count": 23,
     "metadata": {},
     "output_type": "execute_result"
    }
   ],
   "source": [
    "parameters ={'C':[1., 10., 100., 500., 1000.],\n",
    "             'gamma':[0.0001, 0.001, 0.01, 0.1, 1.]}\n",
    "svc = GridSearchCV(estimator=svm.SVC(kernel='rbf', probability=True), \n",
    "                   param_grid=parameters, cv=3,\n",
    "                   scoring='f1', refit=True, n_jobs=-1, iid=False)\n",
    "svc.fit(X_train, y_train)"
   ]
  },
  {
   "cell_type": "code",
   "execution_count": 24,
   "metadata": {},
   "outputs": [
    {
     "name": "stdout",
     "output_type": "stream",
     "text": [
      "Best parameters from GridSearch: {'C': 500.0, 'gamma': 0.01}\n"
     ]
    }
   ],
   "source": [
    "# Best model parameters\n",
    "best_parameters = svc.best_params_\n",
    "print(\"Best parameters from GridSearch: {}\".format(svc.best_params_))"
   ]
  },
  {
   "cell_type": "code",
   "execution_count": 25,
   "metadata": {},
   "outputs": [
    {
     "name": "stdout",
     "output_type": "stream",
     "text": [
      "Average score using 3-fold CV: 0.99399 +/- 0.000981366\n"
     ]
    }
   ],
   "source": [
    "scores = cross_val_score(svm.SVC(**best_parameters), X_train, y_train, cv=3)\n",
    "print('Average score using 3-fold CV: {:g} +/- {:g}'.format(np.mean(scores), np.std(scores)))"
   ]
  },
  {
   "cell_type": "code",
   "execution_count": 26,
   "metadata": {},
   "outputs": [],
   "source": [
    "results = pd.DataFrame(svc.cv_results_)\n",
    "scores = np.array(results.mean_test_score).reshape(len(parameters['C']), len(parameters['gamma']))"
   ]
  },
  {
   "cell_type": "code",
   "execution_count": 27,
   "metadata": {},
   "outputs": [
    {
     "data": {
      "image/png": "[encoded data removed]",
      "text/plain": [
       "<Figure size 360x360 with 1 Axes>"
      ]
     },
     "metadata": {},
     "output_type": "display_data"
    }
   ],
   "source": [
    "fig, ax = plt.subplots(figsize=(5,5))\n",
    "heatmap(scores, xlabel='gamma', xticklabels=parameters['gamma'], \n",
    "        ylabel='C', yticklabels=parameters['C'], cmap=\"viridis\", ax=ax)\n",
    "plt.show()"
   ]
  },
  {
   "cell_type": "markdown",
   "metadata": {},
   "source": [
    "#### RandomizedSearchCV"
   ]
  },
  {
   "cell_type": "code",
   "execution_count": 28,
   "metadata": {},
   "outputs": [
    {
     "data": {
      "text/plain": [
       "RandomizedSearchCV(cv=3, error_score='raise-deprecating',\n",
       "                   estimator=SVC(C=1.0, cache_size=200, class_weight=None,\n",
       "                                 coef0=0.0, decision_function_shape='ovr',\n",
       "                                 degree=3, gamma='auto_deprecated',\n",
       "                                 kernel='rbf', max_iter=-1, probability=True,\n",
       "                                 random_state=None, shrinking=True, tol=0.001,\n",
       "                                 verbose=False),\n",
       "                   iid=False, n_iter=50, n_jobs=-1,\n",
       "                   param_distributions={'C': <scipy.stats._distn_infrastructure.rv_frozen object at 0x7f92776f9208>,\n",
       "                                        'gamma': <scipy.stats._distn_infrastructure.rv_frozen object at 0x7f92776f9a58>},\n",
       "                   pre_dispatch='2*n_jobs', random_state=None, refit=True,\n",
       "                   return_train_score=False, scoring='f1', verbose=0)"
      ]
     },
     "execution_count": 28,
     "metadata": {},
     "output_type": "execute_result"
    }
   ],
   "source": [
    "parameters = {'C':stats.expon(scale=100), 'gamma':stats.expon(scale=.1)}\n",
    "svc2 = RandomizedSearchCV(estimator=svm.SVC(kernel='rbf', probability=True), \n",
    "                          param_distributions=parameters, cv=3, n_iter=50,  # 50 iterations!\n",
    "                          scoring='f1',  # notice the scoring method!\n",
    "                          refit=True, n_jobs=-1, iid=False)\n",
    "svc2.fit(X_train, y_train)"
   ]
  },
  {
   "cell_type": "code",
   "execution_count": 29,
   "metadata": {},
   "outputs": [
    {
     "name": "stdout",
     "output_type": "stream",
     "text": [
      "Best parameters from RandomSearch: {'C': 504.98699909148553, 'gamma': 0.009589513270161203}\n"
     ]
    }
   ],
   "source": [
    "# Best model parameters\n",
    "best_parameters = svc2.best_params_\n",
    "print(\"Best parameters from RandomSearch: {}\".format(svc2.best_params_))"
   ]
  },
  {
   "cell_type": "code",
   "execution_count": 30,
   "metadata": {},
   "outputs": [
    {
     "name": "stdout",
     "output_type": "stream",
     "text": [
      "Average score using 3-fold CV: 0.99399 +/- 0.000981366\n"
     ]
    }
   ],
   "source": [
    "scores = cross_val_score(svm.SVC(**best_parameters), X_train, y_train, cv=3)\n",
    "print('Average score using 3-fold CV: {:g} +/- {:g}'.format(np.mean(scores), np.std(scores)))"
   ]
  },
  {
   "cell_type": "code",
   "execution_count": 31,
   "metadata": {},
   "outputs": [],
   "source": [
    "y_svc2 = svc2.predict_proba(X_test)\n",
    "y_t['svc'] = y_svc2.argmax(axis=1)"
   ]
  },
  {
   "cell_type": "markdown",
   "metadata": {},
   "source": [
    "#### Precision-Recall Tradeoff"
   ]
  },
  {
   "cell_type": "code",
   "execution_count": 32,
   "metadata": {},
   "outputs": [],
   "source": [
    "y_probas = cross_val_predict(svm.SVC(**best_parameters, probability=True), \n",
    "                             X_train, y_train, cv=3, method='predict_proba')\n",
    "y_scores = y_probas[:,1]  # score = probability of positive class"
   ]
  },
  {
   "cell_type": "code",
   "execution_count": 33,
   "metadata": {},
   "outputs": [],
   "source": [
    "precisions, recalls, thresholds = metrics.precision_recall_curve(y_train, y_scores)"
   ]
  },
  {
   "cell_type": "code",
   "execution_count": 34,
   "metadata": {},
   "outputs": [
    {
     "data": {
      "image/png": "[encoded data removed]",
      "text/plain": [
       "<Figure size 432x288 with 1 Axes>"
      ]
     },
     "metadata": {},
     "output_type": "display_data"
    }
   ],
   "source": [
    "fig, ax = plt.subplots(figsize=(6,4))\n",
    "ax.set_title('SVC Precision-Recall tradeof')\n",
    "ax.plot(thresholds, precisions[:-1], lw=2, label='Precision')\n",
    "ax.plot(thresholds, recalls[:-1], lw=2, label='Recall')\n",
    "plt.vlines(0.5, 0, 1, linestyles='--', label='Threshold = 0.5')\n",
    "ax.set_xlabel('Thresholds')\n",
    "ax.legend(loc='best')\n",
    "ax.set_ylim(bottom=0.8, top=1.02)\n",
    "ax.grid()\n",
    "fig.tight_layout()\n",
    "plt.show()"
   ]
  },
  {
   "cell_type": "code",
   "execution_count": 35,
   "metadata": {},
   "outputs": [
    {
     "data": {
      "image/png": "[encoded data removed]",
      "text/plain": [
       "<Figure size 324x324 with 1 Axes>"
      ]
     },
     "metadata": {},
     "output_type": "display_data"
    }
   ],
   "source": [
    "fig, ax = plt.subplots(figsize=(4.5,4.5))\n",
    "ax.plot(precisions, recalls, lw=2, label='SVC')\n",
    "default = np.argmin(np.abs(thresholds - 0.5))\n",
    "ax.plot(precisions[default], recalls[default], '^', c='k', markersize=10, \n",
    "        label='Threshold = 0.5', fillstyle='none', mew=2)\n",
    "ax.set_xlabel('Precision')\n",
    "ax.set_ylabel('Recall')\n",
    "ax.legend(loc='best')\n",
    "ax.grid()\n",
    "fig.tight_layout()\n",
    "plt.show()"
   ]
  },
  {
   "cell_type": "code",
   "execution_count": 36,
   "metadata": {},
   "outputs": [
    {
     "name": "stdout",
     "output_type": "stream",
     "text": [
      "Average precision-recall score: 0.99\n"
     ]
    }
   ],
   "source": [
    "# Average precision-recall score\n",
    "y_test_score = svc2.predict_proba(X_test)[:,1]\n",
    "average_precision = metrics.average_precision_score(y_test, y_test_score)\n",
    "print('Average precision-recall score: {0:0.2f}'.format(average_precision))"
   ]
  },
  {
   "cell_type": "code",
   "execution_count": 37,
   "metadata": {},
   "outputs": [],
   "source": [
    "# Determine a class from the predicted probability by using \n",
    "# the user-specified threshold value (not a default of 0.5)\n",
    "THRESHOLD = 0.6\n",
    "preds = np.where(y_test_score > THRESHOLD, 1, 0)"
   ]
  },
  {
   "cell_type": "code",
   "execution_count": 38,
   "metadata": {},
   "outputs": [
    {
     "data": {
      "text/html": [
       "<div>\n",
       "<style scoped>\n",
       "    .dataframe tbody tr th:only-of-type {\n",
       "        vertical-align: middle;\n",
       "    }\n",
       "\n",
       "    .dataframe tbody tr th {\n",
       "        vertical-align: top;\n",
       "    }\n",
       "\n",
       "    .dataframe thead th {\n",
       "        text-align: right;\n",
       "    }\n",
       "</style>\n",
       "<table border=\"1\" class=\"dataframe\">\n",
       "  <thead>\n",
       "    <tr style=\"text-align: right;\">\n",
       "      <th></th>\n",
       "      <th>0</th>\n",
       "    </tr>\n",
       "  </thead>\n",
       "  <tbody>\n",
       "    <tr>\n",
       "      <th>accuracy</th>\n",
       "      <td>0.998397</td>\n",
       "    </tr>\n",
       "    <tr>\n",
       "      <th>recall</th>\n",
       "      <td>0.990826</td>\n",
       "    </tr>\n",
       "    <tr>\n",
       "      <th>precision</th>\n",
       "      <td>1.000000</td>\n",
       "    </tr>\n",
       "    <tr>\n",
       "      <th>roc_auc_score</th>\n",
       "      <td>0.995413</td>\n",
       "    </tr>\n",
       "  </tbody>\n",
       "</table>\n",
       "</div>"
      ],
      "text/plain": [
       "                      0\n",
       "accuracy       0.998397\n",
       "recall         0.990826\n",
       "precision      1.000000\n",
       "roc_auc_score  0.995413"
      ]
     },
     "execution_count": 38,
     "metadata": {},
     "output_type": "execute_result"
    }
   ],
   "source": [
    "pd.DataFrame(data=[metrics.accuracy_score(y_test, preds), metrics.recall_score(y_test, preds),\n",
    "                   metrics.precision_score(y_test, preds), metrics.roc_auc_score(y_test, preds)], \n",
    "             index=[\"accuracy\", \"recall\", \"precision\", \"roc_auc_score\"])"
   ]
  },
  {
   "cell_type": "markdown",
   "metadata": {},
   "source": [
    "### ExtraTreesClassifier"
   ]
  },
  {
   "cell_type": "code",
   "execution_count": 40,
   "metadata": {},
   "outputs": [
    {
     "data": {
      "text/plain": [
       "GridSearchCV(cv=3, error_score='raise-deprecating',\n",
       "             estimator=ExtraTreesClassifier(bootstrap=False, class_weight=None,\n",
       "                                            criterion='gini', max_depth=None,\n",
       "                                            max_features='auto',\n",
       "                                            max_leaf_nodes=None,\n",
       "                                            min_impurity_decrease=0.0,\n",
       "                                            min_impurity_split=None,\n",
       "                                            min_samples_leaf=1,\n",
       "                                            min_samples_split=2,\n",
       "                                            min_weight_fraction_leaf=0.0,\n",
       "                                            n_estimators='warn', n_jobs=None,\n",
       "                                            oob_score=False, random_state=None,\n",
       "                                            verbose=0, warm_start=False),\n",
       "             iid=False, n_jobs=-1,\n",
       "             param_grid={'criterion': ['gini', 'entropy'],\n",
       "                         'max_depth': [2, 5, None],\n",
       "                         'n_estimators': [5, 10, 15, 20]},\n",
       "             pre_dispatch='2*n_jobs', refit=True, return_train_score=False,\n",
       "             scoring='f1', verbose=0)"
      ]
     },
     "execution_count": 40,
     "metadata": {},
     "output_type": "execute_result"
    }
   ],
   "source": [
    "# ExtraTreesClassifier (ensemble learner) with grid search \n",
    "# and cross-validation for hyper-parameters optimisation\n",
    "parameters = {'n_estimators':[5, 10, 15, 20], \n",
    "              'criterion':['gini', 'entropy'], \n",
    "              'max_depth':[2, 5, None]}\n",
    "trees = GridSearchCV(estimator=ExtraTreesClassifier(), param_grid=parameters, \n",
    "                     cv=3, scoring='f1', refit=True, n_jobs=-1, iid=False) \n",
    "trees.fit(X_train, y_train)"
   ]
  },
  {
   "cell_type": "code",
   "execution_count": 41,
   "metadata": {},
   "outputs": [
    {
     "name": "stdout",
     "output_type": "stream",
     "text": [
      "Best parameters: {'criterion': 'gini', 'max_depth': None, 'n_estimators': 20}\n"
     ]
    }
   ],
   "source": [
    "# Best model parameters\n",
    "best_parameters = trees.best_params_\n",
    "print(\"Best parameters: {}\".format(trees.best_params_))"
   ]
  },
  {
   "cell_type": "code",
   "execution_count": 42,
   "metadata": {},
   "outputs": [
    {
     "name": "stdout",
     "output_type": "stream",
     "text": [
      "Average score using 3-fold CV: 0.991987 +/- 0.00113318\n"
     ]
    }
   ],
   "source": [
    "scores = cross_val_score(ExtraTreesClassifier(**best_parameters), X_train, y_train, cv=3)\n",
    "print('Average score using 3-fold CV: {:g} +/- {:g}'.format(np.mean(scores), np.std(scores)))"
   ]
  },
  {
   "cell_type": "code",
   "execution_count": 43,
   "metadata": {},
   "outputs": [],
   "source": [
    "y_trees = trees.predict_proba(X_test)\n",
    "y_t['tree'] = y_trees.argmax(axis=1)"
   ]
  },
  {
   "cell_type": "markdown",
   "metadata": {},
   "source": [
    "### RandomForest classifier (ensemble learner)"
   ]
  },
  {
   "cell_type": "code",
   "execution_count": 44,
   "metadata": {},
   "outputs": [
    {
     "data": {
      "text/plain": [
       "GridSearchCV(cv=3, error_score='raise-deprecating',\n",
       "             estimator=RandomForestClassifier(bootstrap=True, class_weight=None,\n",
       "                                              criterion='gini', max_depth=None,\n",
       "                                              max_features='auto',\n",
       "                                              max_leaf_nodes=None,\n",
       "                                              min_impurity_decrease=0.0,\n",
       "                                              min_impurity_split=None,\n",
       "                                              min_samples_leaf=1,\n",
       "                                              min_samples_split=2,\n",
       "                                              min_weight_fraction_leaf=0.0,\n",
       "                                              n_estimators='warn', n_jobs=None,\n",
       "                                              oob_score=False,\n",
       "                                              random_state=None, verbose=0,\n",
       "                                              warm_start=False),\n",
       "             iid=False, n_jobs=-1,\n",
       "             param_grid={'criterion': ['gini', 'entropy'],\n",
       "                         'max_depth': [2, None], 'max_features': [4, 'auto'],\n",
       "                         'n_estimators': [10, 15, 20]},\n",
       "             pre_dispatch='2*n_jobs', refit=True, return_train_score=False,\n",
       "             scoring='f1', verbose=0)"
      ]
     },
     "execution_count": 44,
     "metadata": {},
     "output_type": "execute_result"
    }
   ],
   "source": [
    "# RandomForestClassifier (ensemble learner for classification)\n",
    "parameters = {'n_estimators':[10, 15, 20], \n",
    "              'criterion':['gini', 'entropy'],\n",
    "              'max_features':[4, 'auto'],\n",
    "              'max_depth':[2, None]}\n",
    "# grid search and cross-validation for hyper-parameters optimisation\n",
    "forest = GridSearchCV(estimator=RandomForestClassifier(), param_grid=parameters, \n",
    "                      cv=3, scoring='f1', refit=True, n_jobs=-1, iid=False) \n",
    "forest.fit(X_train, y_train)"
   ]
  },
  {
   "cell_type": "code",
   "execution_count": 45,
   "metadata": {},
   "outputs": [
    {
     "name": "stdout",
     "output_type": "stream",
     "text": [
      "Best parameters: {'criterion': 'entropy', 'max_depth': None, 'max_features': 'auto', 'n_estimators': 15}\n"
     ]
    }
   ],
   "source": [
    "best_parameters = forest.best_params_\n",
    "print(\"Best parameters: {}\".format(forest.best_params_))"
   ]
  },
  {
   "cell_type": "code",
   "execution_count": 46,
   "metadata": {},
   "outputs": [
    {
     "name": "stdout",
     "output_type": "stream",
     "text": [
      "Average score using 3-fold CV: 0.992388 +/- 0.00283296\n"
     ]
    }
   ],
   "source": [
    "scores = cross_val_score(RandomForestClassifier(**best_parameters), X_train, y_train, cv=3)\n",
    "print('Average score using 3-fold CV: {:g} +/- {:g}'.format(np.mean(scores), np.std(scores)))"
   ]
  },
  {
   "cell_type": "code",
   "execution_count": 47,
   "metadata": {},
   "outputs": [],
   "source": [
    "y_forest = forest.predict_proba(X_test)\n",
    "y_t['forest'] = y_forest.argmax(axis=1)"
   ]
  },
  {
   "cell_type": "markdown",
   "metadata": {},
   "source": [
    "### GradientBoosting classifier with feature importance analysis"
   ]
  },
  {
   "cell_type": "code",
   "execution_count": 48,
   "metadata": {},
   "outputs": [],
   "source": [
    "# Train & evaluate model performance\n",
    "def train_and_evaluate(model, X, y, ns=3):\n",
    "    # k-fold cross validation iterator \n",
    "    cv = KFold(n_splits=ns, shuffle=True)\n",
    "    scores = cross_val_score(model, X, y, cv=cv, scoring='f1')  # scoring method is f1!\n",
    "    print('Average score using {:d}-fold CV: {:g} +/- {:g}'.format(ns, np.mean(scores), np.std(scores)))"
   ]
  },
  {
   "cell_type": "code",
   "execution_count": 49,
   "metadata": {},
   "outputs": [
    {
     "name": "stdout",
     "output_type": "stream",
     "text": [
      "Average score using 3-fold CV: 0.984562 +/- 0.00665141\n"
     ]
    },
    {
     "data": {
      "text/plain": [
       "GradientBoostingClassifier(criterion='friedman_mse', init=None,\n",
       "                           learning_rate=0.1, loss='deviance', max_depth=3,\n",
       "                           max_features=None, max_leaf_nodes=None,\n",
       "                           min_impurity_decrease=0.0, min_impurity_split=None,\n",
       "                           min_samples_leaf=1, min_samples_split=2,\n",
       "                           min_weight_fraction_leaf=0.0, n_estimators=100,\n",
       "                           n_iter_no_change=None, presort='auto',\n",
       "                           random_state=None, subsample=1.0, tol=0.0001,\n",
       "                           validation_fraction=0.1, verbose=0,\n",
       "                           warm_start=False)"
      ]
     },
     "execution_count": 49,
     "metadata": {},
     "output_type": "execute_result"
    }
   ],
   "source": [
    "# Gradient Boosting Classifier\n",
    "clf_gb = GradientBoostingClassifier()\n",
    "train_and_evaluate(clf_gb, X_train, y_train, 3)\n",
    "clf_gb.fit(X_train, y_train)"
   ]
  },
  {
   "cell_type": "code",
   "execution_count": 50,
   "metadata": {},
   "outputs": [],
   "source": [
    "# Feature importance\n",
    "feature_importance = clf_gb.feature_importances_\n",
    "feature_importance = 100.0 * (feature_importance / feature_importance.max())\n",
    "sorted_idx = np.argsort(feature_importance)\n",
    "pos = np.arange(sorted_idx.shape[0]) + .5"
   ]
  },
  {
   "cell_type": "code",
   "execution_count": 55,
   "metadata": {},
   "outputs": [
    {
     "name": "stdout",
     "output_type": "stream",
     "text": [
      "Most relevant 10 features according to the GradientBoostingClassifier:\n",
      "['IqG7' 'IqG9' 'IqG6' 'VtG5' 'IdG9' 'PlvG6' 'PlvG9' 'VtG3' 'VAlvB12'\n",
      " 'IqG3']\n"
     ]
    }
   ],
   "source": [
    "# Select top features\n",
    "TOP = 10\n",
    "top_features = data.columns.values[sorted_idx][-TOP:][::-1]\n",
    "print('Most relevant {:d} features according to the GradientBoostingClassifier:'.format(TOP))\n",
    "print(top_features)"
   ]
  },
  {
   "cell_type": "code",
   "execution_count": 52,
   "metadata": {},
   "outputs": [
    {
     "data": {
      "image/png": "[encoded data removed]",
      "text/plain": [
       "<Figure size 360x360 with 1 Axes>"
      ]
     },
     "metadata": {},
     "output_type": "display_data"
    }
   ],
   "source": [
    "# Plot relative feature importance\n",
    "fig, ax = plt.subplots(figsize=(5,5))\n",
    "ax.barh(pos[-TOP:], feature_importance[sorted_idx][-TOP:], align='center', color='magenta', alpha=0.6)\n",
    "plt.yticks(pos[-TOP:], data.columns[sorted_idx][-TOP:])\n",
    "ax.set_xlabel('Feature Relative Importance')\n",
    "#ax.grid(which='major', axis='x')\n",
    "plt.tight_layout()\n",
    "plt.show()"
   ]
  },
  {
   "cell_type": "code",
   "execution_count": 53,
   "metadata": {},
   "outputs": [
    {
     "data": {
      "image/png": "[encoded data removed]",
      "text/plain": [
       "<Figure size 468x396 with 2 Axes>"
      ]
     },
     "metadata": {},
     "output_type": "display_data"
    }
   ],
   "source": [
    "# Correlation matrix of selected features\n",
    "pearson = data[data.columns[sorted_idx][-TOP:]].corr('pearson')\n",
    "pearson.iloc[-1][:-1].sort_values()\n",
    "# Correlation matrix as heatmap (seaborn)\n",
    "fig, ax = plt.subplots(figsize=(6.5,5.5))\n",
    "sns.heatmap(pearson, annot=True, annot_kws=dict(size=9), vmin=-1, vmax=1, ax=ax)\n",
    "plt.tight_layout()\n",
    "plt.show()"
   ]
  },
  {
   "cell_type": "code",
   "execution_count": 54,
   "metadata": {},
   "outputs": [],
   "source": [
    "# Predict on new data\n",
    "y_gb = clf_gb.predict_proba(X_test)\n",
    "y_t['gbr'] = y_gb.argmax(axis=1)"
   ]
  },
  {
   "cell_type": "markdown",
   "metadata": {},
   "source": [
    "### Re-train SVM using only top features from the GradientBoosting classifier"
   ]
  },
  {
   "cell_type": "code",
   "execution_count": 157,
   "metadata": {},
   "outputs": [],
   "source": [
    "# IMPORTANT: NTOP <= TOP\n",
    "NTOP = 2  # using only top 2 features!"
   ]
  },
  {
   "cell_type": "code",
   "execution_count": 125,
   "metadata": {},
   "outputs": [],
   "source": [
    "top_features_index = []\n",
    "for name in top_features:\n",
    "    top_features_index.append(data.columns.get_loc(name))"
   ]
  },
  {
   "cell_type": "code",
   "execution_count": 158,
   "metadata": {},
   "outputs": [
    {
     "name": "stdout",
     "output_type": "stream",
     "text": [
      "(2496, 2)\n",
      "(624, 2)\n"
     ]
    }
   ],
   "source": [
    "X_train_best = X_train[:,top_features_index[:NTOP]]\n",
    "X_test_best = X_test[:,top_features_index[:NTOP]]\n",
    "print(X_train_best.shape)\n",
    "print(X_test_best.shape)"
   ]
  },
  {
   "cell_type": "code",
   "execution_count": 159,
   "metadata": {},
   "outputs": [
    {
     "data": {
      "text/plain": [
       "RandomizedSearchCV(cv=3, error_score='raise-deprecating',\n",
       "                   estimator=SVC(C=1.0, cache_size=200, class_weight=None,\n",
       "                                 coef0=0.0, decision_function_shape='ovr',\n",
       "                                 degree=3, gamma='auto_deprecated',\n",
       "                                 kernel='rbf', max_iter=-1, probability=True,\n",
       "                                 random_state=None, shrinking=True, tol=0.001,\n",
       "                                 verbose=False),\n",
       "                   iid=False, n_iter=50, n_jobs=-1,\n",
       "                   param_distributions={'C': <scipy.stats._distn_infrastructure.rv_frozen object at 0x7f925a15fe10>,\n",
       "                                        'gamma': <scipy.stats._distn_infrastructure.rv_frozen object at 0x7f925a15fd68>},\n",
       "                   pre_dispatch='2*n_jobs', random_state=None, refit=True,\n",
       "                   return_train_score=False, scoring='f1', verbose=0)"
      ]
     },
     "execution_count": 159,
     "metadata": {},
     "output_type": "execute_result"
    }
   ],
   "source": [
    "# Optimize SVM with only TOP features\n",
    "parameters = {'C':stats.expon(scale=100), 'gamma':stats.expon(scale=.1)}\n",
    "svc_top = RandomizedSearchCV(estimator=svm.SVC(kernel='rbf', probability=True), \n",
    "                             param_distributions=parameters, cv=3, n_iter=50,  # 50 iterations!\n",
    "                             scoring='f1',  # notice the scoring method!\n",
    "                             refit=True, n_jobs=-1, iid=False)\n",
    "svc_top.fit(X_train_best, y_train)"
   ]
  },
  {
   "cell_type": "code",
   "execution_count": 160,
   "metadata": {},
   "outputs": [
    {
     "name": "stdout",
     "output_type": "stream",
     "text": [
      "Best parameters from RandomSearch: {'C': 111.17633418995874, 'gamma': 0.26275934488954594}\n"
     ]
    }
   ],
   "source": [
    "# Best model parameters\n",
    "best_parameters = svc_top.best_params_\n",
    "print(\"Best parameters from RandomSearch: {}\".format(svc_top.best_params_))"
   ]
  },
  {
   "cell_type": "code",
   "execution_count": 161,
   "metadata": {},
   "outputs": [
    {
     "name": "stdout",
     "output_type": "stream",
     "text": [
      "Average score using 3-fold CV: 0.97476 +/- 0.00855535\n"
     ]
    }
   ],
   "source": [
    "scores = cross_val_score(svm.SVC(**best_parameters), X_train_best, y_train, cv=3)\n",
    "print('Average score using 3-fold CV: {:g} +/- {:g}'.format(np.mean(scores), np.std(scores)))"
   ]
  },
  {
   "cell_type": "code",
   "execution_count": 174,
   "metadata": {},
   "outputs": [
    {
     "data": {
      "image/png": "[encoded data removed]",
      "text/plain": [
       "<Figure size 432x288 with 1 Axes>"
      ]
     },
     "metadata": {},
     "output_type": "display_data"
    }
   ],
   "source": [
    "# confusion matrix\n",
    "scores_image = heatmap(metrics.confusion_matrix(y_test, svc_top.predict(X_test_best)), \n",
    "                       xlabel='Predicted label', ylabel='True label', \n",
    "                       xticklabels=labels, yticklabels=labels, \n",
    "                       cmap=plt.cm.gray_r, fmt=\"%d\")\n",
    "plt.title(\"Confusion matrix\")\n",
    "plt.gca().invert_yaxis()\n",
    "plt.show()"
   ]
  },
  {
   "cell_type": "code",
   "execution_count": 162,
   "metadata": {},
   "outputs": [
    {
     "name": "stdout",
     "output_type": "stream",
     "text": [
      "              precision    recall  f1-score   support\n",
      "\n",
      "        Stab       0.98      0.99      0.99       515\n",
      "     NotStab       0.95      0.91      0.93       109\n",
      "\n",
      "    accuracy                           0.98       624\n",
      "   macro avg       0.97      0.95      0.96       624\n",
      "weighted avg       0.98      0.98      0.98       624\n",
      "\n"
     ]
    }
   ],
   "source": [
    "print(metrics.classification_report(y_test, svc_top.predict(X_test_best), target_names=labels))"
   ]
  },
  {
   "cell_type": "markdown",
   "metadata": {},
   "source": [
    "#### Graphical visualization of the top two features"
   ]
  },
  {
   "cell_type": "code",
   "execution_count": 163,
   "metadata": {},
   "outputs": [],
   "source": [
    "x_vals_0 = data[top_features[0]].loc[data['Stability']==0]\n",
    "x_vals_1 = data[top_features[0]].loc[data['Stability']==1]\n",
    "y_vals_0 = data[top_features[1]].loc[data['Stability']==0]\n",
    "y_vals_1 = data[top_features[1]].loc[data['Stability']==1]"
   ]
  },
  {
   "cell_type": "code",
   "execution_count": 164,
   "metadata": {},
   "outputs": [
    {
     "data": {
      "image/png": "[encoded data removed]",
      "text/plain": [
       "<Figure size 396x396 with 1 Axes>"
      ]
     },
     "metadata": {},
     "output_type": "display_data"
    }
   ],
   "source": [
    "fig, ax = plt.subplots(figsize=(5.5,5.5))\n",
    "ax.scatter(x_vals_0, y_vals_0, s=30, c='green', marker='o', edgecolors='k', alpha=0.6, label='Stable')\n",
    "ax.scatter(x_vals_1, y_vals_1, s=30, c='red', marker='o', edgecolors='k', alpha=0.6, label='Unstable')\n",
    "ax.legend(loc='best')\n",
    "ax.set_xlabel(top_features[0])\n",
    "ax.set_ylabel(top_features[1])\n",
    "ax.grid()\n",
    "fig.tight_layout()\n",
    "plt.show()"
   ]
  },
  {
   "cell_type": "markdown",
   "metadata": {},
   "source": [
    "#### Plot decision region with only top two features (NTOP = 2)"
   ]
  },
  {
   "cell_type": "code",
   "execution_count": 165,
   "metadata": {},
   "outputs": [],
   "source": [
    "# Axis grid with NTOP = 2\n",
    "x_min, x_max = X_train_best[:,0].min() - 0.1, X_train_best[:,0].max() + 0.1\n",
    "y_min, y_max = X_train_best[:,1].min() - 0.1, X_train_best[:,1].max() + 0.1\n",
    "xx, yy = np.meshgrid(np.arange(x_min, x_max, 0.01),\n",
    "                     np.arange(y_min, y_max, 0.01))"
   ]
  },
  {
   "cell_type": "code",
   "execution_count": 166,
   "metadata": {},
   "outputs": [],
   "source": [
    "Z = svc_top.predict_proba(np.c_[xx.ravel(), yy.ravel()])[:,1]\n",
    "Z = Z.reshape(xx.shape)"
   ]
  },
  {
   "cell_type": "code",
   "execution_count": 171,
   "metadata": {},
   "outputs": [
    {
     "data": {
      "image/png": "[encoded data removed]",
      "text/plain": [
       "<Figure size 432x360 with 1 Axes>"
      ]
     },
     "metadata": {},
     "output_type": "display_data"
    }
   ],
   "source": [
    "fig, ax = plt.subplots(figsize=(6,5))\n",
    "ax.contourf(xx, yy, Z, cmap=plt.cm.RdBu, alpha=0.8)\n",
    "ax.scatter(x_vals_0, y_vals_0, s=30, c='green', marker='o', edgecolors='k', alpha=0.6, label='Stable')\n",
    "ax.scatter(x_vals_1, y_vals_1, s=30, c='red', marker='o', edgecolors='k', alpha=0.6, label='Unstable')\n",
    "ax.legend(loc='best')\n",
    "ax.set_xlabel(top_features[0])\n",
    "ax.set_ylabel(top_features[1])\n",
    "ax.set_xlim(-0.5, 0.4)\n",
    "ax.set_ylim(-0.9, 1.1)\n",
    "ax.grid()\n",
    "fig.tight_layout()\n",
    "plt.show()"
   ]
  },
  {
   "cell_type": "markdown",
   "metadata": {},
   "source": [
    "## Ensemble models using voting principle"
   ]
  },
  {
   "cell_type": "markdown",
   "metadata": {},
   "source": [
    "<p style=\"background-color:honeydew;padding:10px;border:2px solid mediumseagreen\"><b>Note:</b> Ensembling consists of pooling together the predictions of a set of different models, to produce better predictions. The key to making ensembling work is the diversity of the set of classifiers. Diversity is what makes ensembling work. For this reason, one should ensemble models that are as good as possible while being <b>as different as possible</b>. This typically means using very different network architectures or even different brands of machine-learning approaches. This is exactly what has been proposed here.</p>"
   ]
  },
  {
   "cell_type": "markdown",
   "metadata": {},
   "source": [
    "### Soft voting"
   ]
  },
  {
   "cell_type": "code",
   "execution_count": 54,
   "metadata": {},
   "outputs": [],
   "source": [
    "clf = VotingClassifier(estimators=[('logreg', lreg),     # LogisticRegression\n",
    "                                   ('svm', svc2),        # SVC\n",
    "                                   ('forest', forest)],  # RandomForest \n",
    "                       weights=[1, 1, 1],  # classifier relative weights\n",
    "                       voting='soft')\n",
    "clf = clf.fit(X_train, y_train)"
   ]
  },
  {
   "cell_type": "code",
   "execution_count": 55,
   "metadata": {},
   "outputs": [],
   "source": [
    "y_clf = clf.predict_proba(X_test)\n",
    "y_t['vote'] = y_clf.argmax(axis=1)"
   ]
  },
  {
   "cell_type": "code",
   "execution_count": 56,
   "metadata": {},
   "outputs": [
    {
     "name": "stdout",
     "output_type": "stream",
     "text": [
      "Average score using 3-fold CV: 0.992788 +/- 0.000981366\n"
     ]
    }
   ],
   "source": [
    "scores = cross_val_score(clf, X_train, y_train, cv=3)\n",
    "print('Average score using 3-fold CV: {:g} +/- {:g}'.format(np.mean(scores), np.std(scores)))"
   ]
  },
  {
   "cell_type": "markdown",
   "metadata": {},
   "source": [
    "#### Predictions using individual classifiers and ensembles"
   ]
  },
  {
   "cell_type": "code",
   "execution_count": 57,
   "metadata": {},
   "outputs": [
    {
     "data": {
      "text/html": [
       "<div>\n",
       "<style scoped>\n",
       "    .dataframe tbody tr th:only-of-type {\n",
       "        vertical-align: middle;\n",
       "    }\n",
       "\n",
       "    .dataframe tbody tr th {\n",
       "        vertical-align: top;\n",
       "    }\n",
       "\n",
       "    .dataframe thead th {\n",
       "        text-align: right;\n",
       "    }\n",
       "</style>\n",
       "<table border=\"1\" class=\"dataframe\">\n",
       "  <thead>\n",
       "    <tr style=\"text-align: right;\">\n",
       "      <th></th>\n",
       "      <th>Stability</th>\n",
       "      <th>logreg</th>\n",
       "      <th>svc</th>\n",
       "      <th>tree</th>\n",
       "      <th>forest</th>\n",
       "      <th>gbr</th>\n",
       "      <th>vote</th>\n",
       "    </tr>\n",
       "  </thead>\n",
       "  <tbody>\n",
       "    <tr>\n",
       "      <th>190</th>\n",
       "      <td>0</td>\n",
       "      <td>0</td>\n",
       "      <td>0</td>\n",
       "      <td>0</td>\n",
       "      <td>0</td>\n",
       "      <td>0</td>\n",
       "      <td>0</td>\n",
       "    </tr>\n",
       "    <tr>\n",
       "      <th>2749</th>\n",
       "      <td>0</td>\n",
       "      <td>0</td>\n",
       "      <td>0</td>\n",
       "      <td>0</td>\n",
       "      <td>0</td>\n",
       "      <td>0</td>\n",
       "      <td>0</td>\n",
       "    </tr>\n",
       "    <tr>\n",
       "      <th>2894</th>\n",
       "      <td>0</td>\n",
       "      <td>0</td>\n",
       "      <td>0</td>\n",
       "      <td>0</td>\n",
       "      <td>0</td>\n",
       "      <td>0</td>\n",
       "      <td>0</td>\n",
       "    </tr>\n",
       "    <tr>\n",
       "      <th>2440</th>\n",
       "      <td>1</td>\n",
       "      <td>1</td>\n",
       "      <td>1</td>\n",
       "      <td>1</td>\n",
       "      <td>1</td>\n",
       "      <td>1</td>\n",
       "      <td>1</td>\n",
       "    </tr>\n",
       "    <tr>\n",
       "      <th>2743</th>\n",
       "      <td>0</td>\n",
       "      <td>0</td>\n",
       "      <td>0</td>\n",
       "      <td>0</td>\n",
       "      <td>0</td>\n",
       "      <td>0</td>\n",
       "      <td>0</td>\n",
       "    </tr>\n",
       "    <tr>\n",
       "      <th>562</th>\n",
       "      <td>1</td>\n",
       "      <td>1</td>\n",
       "      <td>1</td>\n",
       "      <td>1</td>\n",
       "      <td>1</td>\n",
       "      <td>1</td>\n",
       "      <td>1</td>\n",
       "    </tr>\n",
       "    <tr>\n",
       "      <th>1176</th>\n",
       "      <td>0</td>\n",
       "      <td>0</td>\n",
       "      <td>0</td>\n",
       "      <td>0</td>\n",
       "      <td>0</td>\n",
       "      <td>0</td>\n",
       "      <td>0</td>\n",
       "    </tr>\n",
       "    <tr>\n",
       "      <th>1659</th>\n",
       "      <td>0</td>\n",
       "      <td>0</td>\n",
       "      <td>0</td>\n",
       "      <td>0</td>\n",
       "      <td>0</td>\n",
       "      <td>0</td>\n",
       "      <td>0</td>\n",
       "    </tr>\n",
       "    <tr>\n",
       "      <th>2464</th>\n",
       "      <td>1</td>\n",
       "      <td>1</td>\n",
       "      <td>1</td>\n",
       "      <td>1</td>\n",
       "      <td>1</td>\n",
       "      <td>1</td>\n",
       "      <td>1</td>\n",
       "    </tr>\n",
       "    <tr>\n",
       "      <th>1213</th>\n",
       "      <td>1</td>\n",
       "      <td>1</td>\n",
       "      <td>1</td>\n",
       "      <td>1</td>\n",
       "      <td>1</td>\n",
       "      <td>1</td>\n",
       "      <td>1</td>\n",
       "    </tr>\n",
       "  </tbody>\n",
       "</table>\n",
       "</div>"
      ],
      "text/plain": [
       "      Stability  logreg  svc  tree  forest  gbr  vote\n",
       "190           0       0    0     0       0    0     0\n",
       "2749          0       0    0     0       0    0     0\n",
       "2894          0       0    0     0       0    0     0\n",
       "2440          1       1    1     1       1    1     1\n",
       "2743          0       0    0     0       0    0     0\n",
       "562           1       1    1     1       1    1     1\n",
       "1176          0       0    0     0       0    0     0\n",
       "1659          0       0    0     0       0    0     0\n",
       "2464          1       1    1     1       1    1     1\n",
       "1213          1       1    1     1       1    1     1"
      ]
     },
     "execution_count": 57,
     "metadata": {},
     "output_type": "execute_result"
    }
   ],
   "source": [
    "y_t.head(10)"
   ]
  },
  {
   "cell_type": "code",
   "execution_count": 176,
   "metadata": {},
   "outputs": [
    {
     "name": "stdout",
     "output_type": "stream",
     "text": [
      "Notebook createad on x86_64 computer running debian buster/sid and using:      \n",
      "Python 3.7.3\n",
      "IPython 7.7.0\n",
      "Scikit-learn 0.21.2\n",
      "Pandas 0.25.0\n",
      "Numpy 1.16.4\n",
      "Scipy 1.3.1\n"
     ]
    },
    {
     "name": "stderr",
     "output_type": "stream",
     "text": [
      "/home/ps/anaconda3/lib/python3.7/site-packages/ipykernel_launcher.py:4: DeprecationWarning: dist() and linux_distribution() functions are deprecated in Python 3.5\n",
      "  after removing the cwd from sys.path.\n"
     ]
    }
   ],
   "source": [
    "import sys, IPython, platform, sklearn, scipy\n",
    "print(\"Notebook createad on {:s} computer running {:s} and using:\\\n",
    "      \\nPython {:s}\\nIPython {:s}\\nScikit-learn {:s}\\nPandas {:s}\\nNumpy {:s}\\nScipy {:s}\"\\\n",
    "      .format(platform.machine(), ' '.join(platform.dist()[:2]), sys.version[:5], \n",
    "              IPython.__version__, sklearn.__version__, pd.__version__, np.__version__, scipy.__version__))"
   ]
  },
  {
   "cell_type": "code",
   "execution_count": null,
   "metadata": {},
   "outputs": [],
   "source": []
  }
 ],
 "metadata": {
  "kernelspec": {
   "display_name": "Python 3",
   "language": "python",
   "name": "python3"
  },
  "language_info": {
   "codemirror_mode": {
    "name": "ipython",
    "version": 3
   },
   "file_extension": ".py",
   "mimetype": "text/x-python",
   "name": "python",
   "nbconvert_exporter": "python",
   "pygments_lexer": "ipython3",
   "version": "3.7.3"
  }
 },
 "nbformat": 4,
 "nbformat_minor": 2
}
